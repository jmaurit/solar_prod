{
 "cells": [
  {
   "cell_type": "markdown",
   "metadata": {
    "deletable": true,
    "editable": true
   },
   "source": [
    "# Analysis of Stan results (from process run on gcp), with constrained data"
   ]
  },
  {
   "cell_type": "markdown",
   "metadata": {
    "deletable": true,
    "editable": true
   },
   "source": [
    "### Last updated June 1, 2018"
   ]
  },
  {
   "cell_type": "code",
   "execution_count": 1,
   "metadata": {
    "collapsed": false,
    "deletable": true,
    "editable": true
   },
   "outputs": [
    {
     "name": "stdout",
     "output_type": "stream",
     "text": [
      "Requirement already satisfied: pystan in /usr/local/envs/py3env/lib/python3.5/site-packages\n",
      "Requirement already satisfied: numpy>=1.7 in /usr/local/envs/py3env/lib/python3.5/site-packages (from pystan)\n",
      "Requirement already satisfied: Cython!=0.25.1,>=0.22 in /usr/local/envs/py3env/lib/python3.5/site-packages (from pystan)\n",
      "\u001b[33mYou are using pip version 9.0.3, however version 10.0.1 is available.\n",
      "You should consider upgrading via the 'pip install --upgrade pip' command.\u001b[0m\n"
     ]
    }
   ],
   "source": [
    "!pip3 install pystan\n",
    "#!pip3 install feather-format"
   ]
  },
  {
   "cell_type": "code",
   "execution_count": 2,
   "metadata": {
    "collapsed": true,
    "deletable": true,
    "editable": true
   },
   "outputs": [],
   "source": [
    "#import feather"
   ]
  },
  {
   "cell_type": "code",
   "execution_count": 3,
   "metadata": {
    "collapsed": false,
    "deletable": true,
    "editable": true
   },
   "outputs": [
    {
     "name": "stderr",
     "output_type": "stream",
     "text": [
      "/usr/local/envs/py3env/lib/python3.5/site-packages/statsmodels/compat/pandas.py:56: FutureWarning: The pandas.core.datetools module is deprecated and will be removed in a future version. Please use the pandas.tseries module instead.\n",
      "  from pandas.core import datetools\n"
     ]
    }
   ],
   "source": [
    "import pandas as pd\n",
    "import tabulate as tab\n",
    "import numpy as np\n",
    "import matplotlib as mpt\n",
    "import matplotlib.pyplot as plt\n",
    "import matplotlib.patches as mpatches\n",
    "import seaborn as sns\n",
    "import statsmodels.formula.api as smf\n",
    "import statsmodels.api as sm\n",
    "import sys\n",
    "import pystan\n",
    "import scipy\n",
    "import pickle\n",
    "\n",
    "pd.options.display.max_rows = 999\n",
    "pd.options.display.max_columns = 50\n",
    "\n",
    "plt.rcParams['xtick.labelsize'] = 14\n",
    "plt.rcParams['ytick.labelsize'] = 14\n",
    "plt.rcParams['axes.facecolor'] =\"white\"\n",
    "plt.rcParams['grid.color'] =\"grey\"\n",
    "plt.rcParams['grid.linestyle'] = \"dotted\"\n",
    "plt.rcParams[\"axes.labelsize\"]= 14\n",
    "#plt.rcParams['figure.savefig.dpi'] = 100\n",
    "plt.rcParams['savefig.edgecolor'] = \"#f2f2f2\"\n",
    "plt.rcParams['savefig.facecolor'] =\"white\"\n",
    "plt.rcParams[\"figure.figsize\"] = [15,8]\n",
    "plt.rcParams['savefig.bbox'] = \"tight\"\n",
    "plt.rcParams['font.size'] = 14\n",
    "greens = ['#66c2a4','#41ae76','#238b45','#006d2c','#00441b']\n",
    "multi =['#66c2a4','#1f78b4','#a6cee3','#b2df8a','#33a02c','#fb9a99','#e31a1c','#fdbf6f']\n",
    "#plt.rcParams[\"axes.color_cycle\"] = multi\n",
    "\n"
   ]
  },
  {
   "cell_type": "code",
   "execution_count": 4,
   "metadata": {
    "collapsed": true,
    "deletable": true,
    "editable": true
   },
   "outputs": [],
   "source": [
    "import google.datalab.storage as storage\n",
    "#get bucket names\n",
    "from google.datalab import Context\n",
    "import random, string\n",
    "from io import BytesIO"
   ]
  },
  {
   "cell_type": "markdown",
   "metadata": {
    "deletable": true,
    "editable": true
   },
   "source": [
    "### Functions"
   ]
  },
  {
   "cell_type": "code",
   "execution_count": 5,
   "metadata": {
    "collapsed": true,
    "deletable": true,
    "editable": true
   },
   "outputs": [],
   "source": [
    "#import stan_helpers #get_cent_interval, post_sample\n",
    "\n",
    "def get_cent_interval(sample, conf=.95):\n",
    "\tp=1-conf\n",
    "\tsample = np.sort(sample)\n",
    "\tn_sample = len(sample)\n",
    "\tlow_ci = sample[round(n_sample*(p/2))]\n",
    "\thigh_ci = sample[round(n_sample*(1-p/2))]\n",
    "\treturn([low_ci, high_ci])\n"
   ]
  },
  {
   "cell_type": "code",
   "execution_count": 6,
   "metadata": {
    "collapsed": true,
    "deletable": true,
    "editable": true
   },
   "outputs": [],
   "source": [
    "def summary_info(post_sample, lim=5):\n",
    "\t#post_sample = solar_params\n",
    "\t#lim=5\n",
    "\t\"\"\"\n",
    "\tInput extracted STAN model sample: post_sample\n",
    "\tlim - confidence interval ie lim = 5 => 95 central posterior interval\n",
    "\t\"\"\"\n",
    "\n",
    "\tparams = []\n",
    "\tmeans = []\n",
    "\tmedians = []\n",
    "\tmodes = []\n",
    "\tlow_ci = []\n",
    "\thigh_ci = []\n",
    "\tfor i in post_sample:\n",
    "\t\tparam_sim = post_sample[i]\n",
    "\t\tif (param_sim.shape[0] == param_sim.size):\n",
    "\t\t\tparams.append(i)\n",
    "\t\t\tmeans.append(np.mean(param_sim))\n",
    "\t\t\tmedians.append(np.median(param_sim))\n",
    "\t\t\tn_samples = len(param_sim)\n",
    "\t\t\tn_tail = n_samples*(lim/100)/2\n",
    "\t\t\tparam_sim=np.sort(param_sim)\n",
    "\t\t\tlow_ci.append(param_sim[n_tail])\n",
    "\t\t\thigh_ci.append(param_sim[n_samples-n_tail])\n",
    "\t\telse:\n",
    "\t\t\tfor par_case in param_sim.T:\n",
    "\t\t\t\tparams.append(i)\n",
    "\t\t\t\tmeans.append(np.mean(par_case))\n",
    "\t\t\t\tmedians.append(np.median(par_case))\n",
    "\t\t\t\tmodes.append(np.mode(parcase))\n",
    "\t\t\t\tn_samples = len(par_case)\n",
    "\t\t\t\tn_tail = n_samples*(lim/100)/2\n",
    "\t\t\t\tpar_case=np.sort(par_case)\n",
    "\t\t\t\tlow_ci.append(par_case[n_tail])\n",
    "\t\t\t\thigh_ci.append(par_case[n_samples-n_tail])\n",
    "\toutput = {\"params\":params,\n",
    "\t\t\"means\" : means,\n",
    "\t\t\"medians\" : medians,\n",
    "\t\t\"low_ci\" : low_ci,\n",
    "\t\t\"high_ci\" : high_ci}\n",
    "\toutput = pd.DataFrame(output)\n",
    "\treturn(output)"
   ]
  },
  {
   "cell_type": "markdown",
   "metadata": {
    "deletable": true,
    "editable": true
   },
   "source": [
    "### Import Data"
   ]
  },
  {
   "cell_type": "code",
   "execution_count": 7,
   "metadata": {
    "collapsed": true,
    "deletable": true,
    "editable": true
   },
   "outputs": [],
   "source": [
    "from google.datalab import Context\n",
    "import random, string"
   ]
  },
  {
   "cell_type": "code",
   "execution_count": 8,
   "metadata": {
    "collapsed": false,
    "deletable": true,
    "editable": true
   },
   "outputs": [
    {
     "name": "stdout",
     "output_type": "stream",
     "text": [
      "prod_csi.csv\n",
      "solar_extr_200518.pkl\n",
      "solar_extr_210518.pkl\n",
      "solar_extr_210518_2.pkl\n",
      "solar_extr_220518.pkl\n",
      "solar_extr_230518.pkl\n",
      "solar_extr_240518.pkl\n",
      "solar_extr_250518.pkl\n",
      "solar_extr_may18final.pkl\n",
      "solar_extr_may18final2.pkl\n",
      "solar_extr_may18final2_const.pkl\n"
     ]
    }
   ],
   "source": [
    "solar_bucket = storage.Bucket('solar_commodities')\n",
    "for obj in solar_bucket.objects():\n",
    "  if obj.key.find('/') < 0:\n",
    "    print(obj.key)"
   ]
  },
  {
   "cell_type": "code",
   "execution_count": 9,
   "metadata": {
    "collapsed": false,
    "deletable": true,
    "editable": true
   },
   "outputs": [
    {
     "name": "stdout",
     "output_type": "stream",
     "text": [
      "odict_keys(['mu_cm', 'mu_b0', 'sigma_b1_mu', 'sigma_b1_sigma', 'sigma_b0', 'sigma_b1', 'sigma', 'sigma_cm', 'b0', 'b1', 'cm', 'mu1_lease', 'mu1_m', 'mu1_s', 'beta1_cost', 'beta1_size', 'beta1_fy', 'beta1_tmo', 'mu_b1', 'y_hat', 'lp__'])\n"
     ]
    }
   ],
   "source": [
    "remote = solar_bucket.object(\"solar_extr_may18final2_const.pkl\").read_stream()\n",
    "solar_extr = pickle.load(BytesIO(remote))\n",
    "print(solar_extr.keys())"
   ]
  },
  {
   "cell_type": "markdown",
   "metadata": {
    "deletable": true,
    "editable": true
   },
   "source": [
    "## Convert to dataframe (and then to feather format?) to download"
   ]
  },
  {
   "cell_type": "code",
   "execution_count": null,
   "metadata": {
    "collapsed": false,
    "deletable": true,
    "editable": true
   },
   "outputs": [],
   "source": []
  },
  {
   "cell_type": "code",
   "execution_count": 10,
   "metadata": {
    "collapsed": true,
    "deletable": true,
    "editable": true
   },
   "outputs": [],
   "source": [
    "solar_vars = list(solar_extr.keys())\n",
    "coef_keys = solar_vars[0:-2]\n"
   ]
  },
  {
   "cell_type": "code",
   "execution_count": 11,
   "metadata": {
    "collapsed": true,
    "deletable": true,
    "editable": true
   },
   "outputs": [],
   "source": [
    "for par in coef_keys:\n",
    "  parDF = pd.DataFrame(solar_extr[par])\n",
    "  f = solar_bucket.object(\"posterior_const/\"+par + \".csv\")\n",
    "  f.write_stream(parDF.to_csv(), 'text/csv')\n"
   ]
  },
  {
   "cell_type": "markdown",
   "metadata": {
    "deletable": true,
    "editable": true
   },
   "source": [
    "## Analysis of data"
   ]
  },
  {
   "cell_type": "code",
   "execution_count": 13,
   "metadata": {
    "collapsed": false,
    "deletable": true,
    "editable": true
   },
   "outputs": [
    {
     "data": {
      "text/html": [
       "<div>\n",
       "<style scoped>\n",
       "    .dataframe tbody tr th:only-of-type {\n",
       "        vertical-align: middle;\n",
       "    }\n",
       "\n",
       "    .dataframe tbody tr th {\n",
       "        vertical-align: top;\n",
       "    }\n",
       "\n",
       "    .dataframe thead th {\n",
       "        text-align: right;\n",
       "    }\n",
       "</style>\n",
       "<table border=\"1\" class=\"dataframe\">\n",
       "  <thead>\n",
       "    <tr style=\"text-align: right;\">\n",
       "      <th></th>\n",
       "      <th>0</th>\n",
       "      <th>1</th>\n",
       "    </tr>\n",
       "  </thead>\n",
       "  <tbody>\n",
       "    <tr>\n",
       "      <th>0</th>\n",
       "      <td>-0.000112</td>\n",
       "      <td>-0.000258</td>\n",
       "    </tr>\n",
       "    <tr>\n",
       "      <th>1</th>\n",
       "      <td>-0.000285</td>\n",
       "      <td>-0.001085</td>\n",
       "    </tr>\n",
       "    <tr>\n",
       "      <th>2</th>\n",
       "      <td>-0.000421</td>\n",
       "      <td>-0.000453</td>\n",
       "    </tr>\n",
       "    <tr>\n",
       "      <th>3</th>\n",
       "      <td>0.000150</td>\n",
       "      <td>-0.000992</td>\n",
       "    </tr>\n",
       "    <tr>\n",
       "      <th>4</th>\n",
       "      <td>-0.000441</td>\n",
       "      <td>-0.001696</td>\n",
       "    </tr>\n",
       "  </tbody>\n",
       "</table>\n",
       "</div>"
      ],
      "text/plain": [
       "          0         1\n",
       "0 -0.000112 -0.000258\n",
       "1 -0.000285 -0.001085\n",
       "2 -0.000421 -0.000453\n",
       "3  0.000150 -0.000992\n",
       "4 -0.000441 -0.001696"
      ]
     },
     "execution_count": 13,
     "metadata": {},
     "output_type": "execute_result"
    }
   ],
   "source": [
    "mu_leaseDF = pd.DataFrame(solar_extr[\"mu1_lease\"])\n",
    "beta_costDF = pd.DataFrame(solar_extr[\"beta1_cost\"])\n",
    "\n",
    "\n",
    "beta_costDF.head()\n",
    "\n"
   ]
  },
  {
   "cell_type": "code",
   "execution_count": 14,
   "metadata": {
    "collapsed": false,
    "deletable": true,
    "editable": true
   },
   "outputs": [],
   "source": [
    "mu_leaseDF.columns = [\"mu_own\", \"mu_lease\"]\n",
    "beta_costDF.columns = [\"beta_cost_own\", \"beta_cost_lease\"]\n",
    "#meta_muDF = pd.DataFrame(solar_extr[\"meta_mu\"])\n",
    "#meta_muDF.columns = [\"meta_mu\"]\n",
    "#meta_mu_monDF = pd.DataFrame(solar_extr[\"meta_mu_mon\"])\n",
    "\n",
    "#county\n",
    "#mu1_cDF = pd.DataFrame(solar_extr[\"mu1_c\"])\n",
    "mu1_sDF = pd.DataFrame(solar_extr[\"mu1_s\"])"
   ]
  },
  {
   "cell_type": "code",
   "execution_count": 15,
   "metadata": {
    "collapsed": false,
    "deletable": true,
    "editable": true
   },
   "outputs": [
    {
     "name": "stderr",
     "output_type": "stream",
     "text": [
      "/usr/local/envs/py3env/lib/python3.5/site-packages/matplotlib/font_manager.py:1320: UserWarning: findfont: Font family ['sans-serif'] not found. Falling back to DejaVu Sans\n",
      "  (prop.get_family(), self.defaultFamily[fontext]))\n"
     ]
    },
    {
     "data": {
      "image/png": "[encoded data removed]",
      "text/plain": [
       "<matplotlib.figure.Figure at 0x7face5c9a780>"
      ]
     },
     "metadata": {},
     "output_type": "display_data"
    }
   ],
   "source": [
    "beta_costDF.hist()\n",
    "plt.show()"
   ]
  },
  {
   "cell_type": "code",
   "execution_count": 16,
   "metadata": {
    "collapsed": false,
    "deletable": true,
    "editable": true
   },
   "outputs": [
    {
     "data": {
      "text/html": [
       "<div>\n",
       "<style scoped>\n",
       "    .dataframe tbody tr th:only-of-type {\n",
       "        vertical-align: middle;\n",
       "    }\n",
       "\n",
       "    .dataframe tbody tr th {\n",
       "        vertical-align: top;\n",
       "    }\n",
       "\n",
       "    .dataframe thead th {\n",
       "        text-align: right;\n",
       "    }\n",
       "</style>\n",
       "<table border=\"1\" class=\"dataframe\">\n",
       "  <thead>\n",
       "    <tr style=\"text-align: right;\">\n",
       "      <th></th>\n",
       "      <th>beta_cost_own</th>\n",
       "      <th>beta_cost_lease</th>\n",
       "    </tr>\n",
       "  </thead>\n",
       "  <tbody>\n",
       "    <tr>\n",
       "      <th>0</th>\n",
       "      <td>-0.000112</td>\n",
       "      <td>-0.000258</td>\n",
       "    </tr>\n",
       "    <tr>\n",
       "      <th>1</th>\n",
       "      <td>-0.000285</td>\n",
       "      <td>-0.001085</td>\n",
       "    </tr>\n",
       "    <tr>\n",
       "      <th>2</th>\n",
       "      <td>-0.000421</td>\n",
       "      <td>-0.000453</td>\n",
       "    </tr>\n",
       "    <tr>\n",
       "      <th>3</th>\n",
       "      <td>0.000150</td>\n",
       "      <td>-0.000992</td>\n",
       "    </tr>\n",
       "    <tr>\n",
       "      <th>4</th>\n",
       "      <td>-0.000441</td>\n",
       "      <td>-0.001696</td>\n",
       "    </tr>\n",
       "  </tbody>\n",
       "</table>\n",
       "</div>"
      ],
      "text/plain": [
       "   beta_cost_own  beta_cost_lease\n",
       "0      -0.000112        -0.000258\n",
       "1      -0.000285        -0.001085\n",
       "2      -0.000421        -0.000453\n",
       "3       0.000150        -0.000992\n",
       "4      -0.000441        -0.001696"
      ]
     },
     "execution_count": 16,
     "metadata": {},
     "output_type": "execute_result"
    }
   ],
   "source": [
    "beta_costDF.head()"
   ]
  },
  {
   "cell_type": "code",
   "execution_count": 17,
   "metadata": {
    "collapsed": false,
    "deletable": true,
    "editable": true
   },
   "outputs": [
    {
     "name": "stdout",
     "output_type": "stream",
     "text": [
      "mu_pMore 0.955\n",
      "beta contrast 0.4625\n"
     ]
    }
   ],
   "source": [
    "mu_leaseDF[\"mu_diff\"] = mu_leaseDF[\"mu_lease\"]-mu_leaseDF[\"mu_own\"]\n",
    "beta_costDF[\"beta_diff\"] = beta_costDF[\"beta_cost_lease\"]-beta_costDF[\"beta_cost_own\"]\n",
    "\n",
    "beta_costDF.head()\n",
    "beta_pMore0 = beta_costDF.loc[beta_costDF.beta_diff>0, \"beta_diff\"].size/2000\n",
    "mu_pMore0 = mu_leaseDF.loc[mu_leaseDF.mu_diff>0, \"mu_diff\"].size/2000\n",
    "\n",
    "print(\"mu_pMore\", mu_pMore0)\n",
    "print(\"beta contrast\", beta_pMore0)"
   ]
  },
  {
   "cell_type": "code",
   "execution_count": 18,
   "metadata": {
    "collapsed": false,
    "deletable": true,
    "editable": true
   },
   "outputs": [
    {
     "name": "stderr",
     "output_type": "stream",
     "text": [
      "/usr/local/envs/py3env/lib/python3.5/site-packages/matplotlib/font_manager.py:1320: UserWarning: findfont: Font family ['sans-serif'] not found. Falling back to DejaVu Sans\n",
      "  (prop.get_family(), self.defaultFamily[fontext]))\n"
     ]
    },
    {
     "data": {
      "image/png": "[encoded data removed]",
      "text/plain": [
       "<matplotlib.figure.Figure at 0x7fac353da0f0>"
      ]
     },
     "metadata": {},
     "output_type": "display_data"
    }
   ],
   "source": [
    "\n",
    "\n",
    "\n",
    "\n",
    "\n",
    "fig, ax = plt.subplots(2)\n",
    "mu_leaseDF[\"mu_diff\"].plot.density(ax=ax[0])\n",
    "beta_costDF[\"beta_diff\"].plot.density(ax=ax[1])\n",
    "ax[0].axvline(x=0, color=\"red\")\n",
    "ax[1].axvline(x=0, color=\"red\")\n",
    "fig.set_size_inches(9,9)\n",
    "#ax[0].set_xlim(-.005, .012)\n",
    "#ax[1].set_xlim(-.005, .012)\n",
    "ax[0].set_xlabel(r\"$\\mu^{lease,yes}- \\mu^{lease,no}$\")\n",
    "ax[1].set_xlabel(r\"$\\beta^{cost,l=yes}- \\beta^{cost,l=no}$\")\n",
    "ax[0].text(.005, 80, \"99.5%>0\")\n",
    "ax[1].text(.005, 159, \"85%>0\")\n",
    "plt.savefig(\"bayes_hypos_const.png\", dpi=100)\n",
    "plt.tight_layout()\n",
    "plt.show()"
   ]
  },
  {
   "cell_type": "code",
   "execution_count": 19,
   "metadata": {
    "collapsed": true,
    "deletable": true,
    "editable": true
   },
   "outputs": [],
   "source": [
    "mu_sectDF = pd.DataFrame(solar_extr[\"mu1_s\"])"
   ]
  },
  {
   "cell_type": "code",
   "execution_count": 20,
   "metadata": {
    "collapsed": true,
    "deletable": true,
    "editable": true
   },
   "outputs": [],
   "source": [
    "mu_sectDF.columns = [\"Commercial\", \"Residential\", \"Government\", \"Non-profit\"]"
   ]
  },
  {
   "cell_type": "code",
   "execution_count": 21,
   "metadata": {
    "collapsed": true,
    "deletable": true,
    "editable": true
   },
   "outputs": [],
   "source": [
    "mu_sectDF[\"com-res\"] = mu_sectDF[\"Commercial\"]-mu_sectDF[\"Residential\"]"
   ]
  },
  {
   "cell_type": "code",
   "execution_count": 22,
   "metadata": {
    "collapsed": true,
    "deletable": true,
    "editable": true
   },
   "outputs": [],
   "source": [
    "mu_sectDF[\"gov-res\"] = mu_sectDF[\"Government\"]-mu_sectDF[\"Residential\"]"
   ]
  },
  {
   "cell_type": "code",
   "execution_count": 23,
   "metadata": {
    "collapsed": true,
    "deletable": true,
    "editable": true
   },
   "outputs": [],
   "source": [
    "mu_sectDF[\"npr-res\"] = mu_sectDF[\"Non-profit\"]-mu_sectDF[\"Residential\"]"
   ]
  },
  {
   "cell_type": "code",
   "execution_count": 24,
   "metadata": {
    "collapsed": false,
    "deletable": true,
    "editable": true
   },
   "outputs": [
    {
     "name": "stdout",
     "output_type": "stream",
     "text": [
      "0.7795 0.918 0.7415\n"
     ]
    }
   ],
   "source": [
    "sect_com_pMore0 = mu_sectDF.loc[mu_sectDF[\"com-res\"]>0, \"com-res\"].size/2000\n",
    "sect_gov_pMore0 = mu_sectDF.loc[mu_sectDF[\"gov-res\"]>0, \"gov-res\"].size/2000\n",
    "sect_npr_pMore0 = mu_sectDF.loc[mu_sectDF[\"npr-res\"]>0, \"npr-res\"].size/2000\n",
    "\n",
    "\n",
    "\n",
    "print(sect_com_pMore0, sect_gov_pMore0, sect_npr_pMore0)\n"
   ]
  },
  {
   "cell_type": "code",
   "execution_count": 25,
   "metadata": {
    "collapsed": false,
    "deletable": true,
    "editable": true
   },
   "outputs": [
    {
     "name": "stderr",
     "output_type": "stream",
     "text": [
      "/usr/local/envs/py3env/lib/python3.5/site-packages/matplotlib/font_manager.py:1320: UserWarning: findfont: Font family ['sans-serif'] not found. Falling back to DejaVu Sans\n",
      "  (prop.get_family(), self.defaultFamily[fontext]))\n"
     ]
    },
    {
     "data": {
      "image/png": "[encoded data removed]",
      "text/plain": [
       "<matplotlib.figure.Figure at 0x7fac352a0cc0>"
      ]
     },
     "metadata": {},
     "output_type": "display_data"
    }
   ],
   "source": [
    "fig, ax = plt.subplots(3)\n",
    "mu_sectDF[\"com-res\"].plot.density(ax=ax[0])\n",
    "mu_sectDF[\"gov-res\"].plot.density(ax=ax[1])\n",
    "mu_sectDF[\"npr-res\"].plot.density(ax=ax[2])\n",
    "for a in ax:\n",
    "    a.set_xlim(-.015, 0.020)\n",
    "    a.axvline(x=0, color=\"red\")\n",
    "ax[1].axvline(x=0, color=\"red\")\n",
    "ax[0].set_xlabel(\"$\\mu^{sect,com}-\\mu^{sect,res}$\")\n",
    "ax[1].set_xlabel(\"$\\mu^{sect,gov}-\\mu^{sect,res}$\")\n",
    "ax[2].set_xlabel(\"$\\mu^{sect,npr}-\\mu^{sect,res}$\")\n",
    "ax[0].text(.010, 80, \"68%>0\")\n",
    "ax[1].text(.010, 80, \"91%>0\")\n",
    "ax[2].text(.010, 50, \"54%>0\")\n",
    "plt.tight_layout()\n",
    "fig.savefig(\"mu_sectors_const.png\")\n",
    "plt.show()"
   ]
  },
  {
   "cell_type": "code",
   "execution_count": 26,
   "metadata": {
    "collapsed": true,
    "deletable": true,
    "editable": true
   },
   "outputs": [],
   "source": [
    "metakeys = ['mu_b0', 'sigma_b0', 'sigma_cm', 'sigma', 'mu1_lease', 'mu1_s', 'beta1_cost', 'beta1_size', 'beta1_fy']"
   ]
  },
  {
   "cell_type": "code",
   "execution_count": 27,
   "metadata": {
    "collapsed": false,
    "deletable": true,
    "editable": true
   },
   "outputs": [
    {
     "data": {
      "text/plain": [
       "['mu_b0',\n",
       " 'sigma_b0',\n",
       " 'sigma_cm',\n",
       " 'sigma',\n",
       " 'mu1_lease',\n",
       " 'mu1_s',\n",
       " 'beta1_cost',\n",
       " 'beta1_size',\n",
       " 'beta1_fy']"
      ]
     },
     "execution_count": 27,
     "metadata": {},
     "output_type": "execute_result"
    }
   ],
   "source": [
    "metakeys"
   ]
  },
  {
   "cell_type": "code",
   "execution_count": 28,
   "metadata": {
    "collapsed": true,
    "deletable": true,
    "editable": true
   },
   "outputs": [],
   "source": [
    "def addseries(mkey, extrObj):\n",
    "    paramDF = pd.DataFrame(extrObj[mkey])\n",
    "    cols = paramDF.shape[1]\n",
    "    collabels = [mkey+str(i) for i in range(cols)]\n",
    "    paramDF.columns = collabels\n",
    "    return(paramDF)\n",
    "    "
   ]
  },
  {
   "cell_type": "code",
   "execution_count": 29,
   "metadata": {
    "collapsed": false,
    "deletable": true,
    "editable": true
   },
   "outputs": [],
   "source": [
    "higher_paramsDF = addseries(metakeys.pop(), solar_extr)\n"
   ]
  },
  {
   "cell_type": "code",
   "execution_count": 30,
   "metadata": {
    "collapsed": false,
    "deletable": true,
    "editable": true
   },
   "outputs": [],
   "source": [
    "for mkey in metakeys:\n",
    "    higher_paramsDF = pd.concat([higher_paramsDF, addseries(mkey, solar_extr)], axis=1)"
   ]
  },
  {
   "cell_type": "code",
   "execution_count": 31,
   "metadata": {
    "collapsed": false,
    "deletable": true,
    "editable": true
   },
   "outputs": [
    {
     "data": {
      "text/html": [
       "<div>\n",
       "<style scoped>\n",
       "    .dataframe tbody tr th:only-of-type {\n",
       "        vertical-align: middle;\n",
       "    }\n",
       "\n",
       "    .dataframe tbody tr th {\n",
       "        vertical-align: top;\n",
       "    }\n",
       "\n",
       "    .dataframe thead th {\n",
       "        text-align: right;\n",
       "    }\n",
       "</style>\n",
       "<table border=\"1\" class=\"dataframe\">\n",
       "  <thead>\n",
       "    <tr style=\"text-align: right;\">\n",
       "      <th></th>\n",
       "      <th>beta1_fy0</th>\n",
       "      <th>mu_b00</th>\n",
       "      <th>sigma_b00</th>\n",
       "      <th>sigma_cm0</th>\n",
       "      <th>sigma0</th>\n",
       "      <th>mu1_lease0</th>\n",
       "      <th>mu1_lease1</th>\n",
       "      <th>mu1_s0</th>\n",
       "      <th>mu1_s1</th>\n",
       "      <th>mu1_s2</th>\n",
       "      <th>mu1_s3</th>\n",
       "      <th>beta1_cost0</th>\n",
       "      <th>beta1_cost1</th>\n",
       "      <th>beta1_size0</th>\n",
       "    </tr>\n",
       "  </thead>\n",
       "  <tbody>\n",
       "    <tr>\n",
       "      <th>0</th>\n",
       "      <td>-0.002152</td>\n",
       "      <td>-0.071513</td>\n",
       "      <td>0.913714</td>\n",
       "      <td>0.290984</td>\n",
       "      <td>0.328036</td>\n",
       "      <td>0.196059</td>\n",
       "      <td>0.199125</td>\n",
       "      <td>-0.212264</td>\n",
       "      <td>-0.214222</td>\n",
       "      <td>-0.210947</td>\n",
       "      <td>-0.214340</td>\n",
       "      <td>-0.000112</td>\n",
       "      <td>-0.000258</td>\n",
       "      <td>-0.005274</td>\n",
       "    </tr>\n",
       "    <tr>\n",
       "      <th>1</th>\n",
       "      <td>-0.001683</td>\n",
       "      <td>-0.048230</td>\n",
       "      <td>0.889110</td>\n",
       "      <td>0.303143</td>\n",
       "      <td>0.328494</td>\n",
       "      <td>0.291649</td>\n",
       "      <td>0.293226</td>\n",
       "      <td>-0.308877</td>\n",
       "      <td>-0.310296</td>\n",
       "      <td>-0.308791</td>\n",
       "      <td>-0.306375</td>\n",
       "      <td>-0.000285</td>\n",
       "      <td>-0.001085</td>\n",
       "      <td>-0.006505</td>\n",
       "    </tr>\n",
       "    <tr>\n",
       "      <th>2</th>\n",
       "      <td>-0.004106</td>\n",
       "      <td>-0.070415</td>\n",
       "      <td>0.902845</td>\n",
       "      <td>0.305077</td>\n",
       "      <td>0.328217</td>\n",
       "      <td>0.398485</td>\n",
       "      <td>0.399447</td>\n",
       "      <td>-0.411721</td>\n",
       "      <td>-0.411090</td>\n",
       "      <td>-0.411004</td>\n",
       "      <td>-0.411586</td>\n",
       "      <td>-0.000421</td>\n",
       "      <td>-0.000453</td>\n",
       "      <td>-0.006071</td>\n",
       "    </tr>\n",
       "    <tr>\n",
       "      <th>3</th>\n",
       "      <td>-0.001781</td>\n",
       "      <td>-0.029101</td>\n",
       "      <td>0.920214</td>\n",
       "      <td>0.287876</td>\n",
       "      <td>0.327848</td>\n",
       "      <td>0.405138</td>\n",
       "      <td>0.408646</td>\n",
       "      <td>-0.424906</td>\n",
       "      <td>-0.424824</td>\n",
       "      <td>-0.423329</td>\n",
       "      <td>-0.418557</td>\n",
       "      <td>0.000150</td>\n",
       "      <td>-0.000992</td>\n",
       "      <td>-0.006793</td>\n",
       "    </tr>\n",
       "    <tr>\n",
       "      <th>4</th>\n",
       "      <td>-0.001865</td>\n",
       "      <td>-0.064927</td>\n",
       "      <td>0.911551</td>\n",
       "      <td>0.291848</td>\n",
       "      <td>0.328270</td>\n",
       "      <td>0.440805</td>\n",
       "      <td>0.444731</td>\n",
       "      <td>-0.457794</td>\n",
       "      <td>-0.458764</td>\n",
       "      <td>-0.455087</td>\n",
       "      <td>-0.457456</td>\n",
       "      <td>-0.000441</td>\n",
       "      <td>-0.001696</td>\n",
       "      <td>-0.006513</td>\n",
       "    </tr>\n",
       "  </tbody>\n",
       "</table>\n",
       "</div>"
      ],
      "text/plain": [
       "   beta1_fy0    mu_b00  sigma_b00  sigma_cm0    sigma0  mu1_lease0  \\\n",
       "0  -0.002152 -0.071513   0.913714   0.290984  0.328036    0.196059   \n",
       "1  -0.001683 -0.048230   0.889110   0.303143  0.328494    0.291649   \n",
       "2  -0.004106 -0.070415   0.902845   0.305077  0.328217    0.398485   \n",
       "3  -0.001781 -0.029101   0.920214   0.287876  0.327848    0.405138   \n",
       "4  -0.001865 -0.064927   0.911551   0.291848  0.328270    0.440805   \n",
       "\n",
       "   mu1_lease1    mu1_s0    mu1_s1    mu1_s2    mu1_s3  beta1_cost0  \\\n",
       "0    0.199125 -0.212264 -0.214222 -0.210947 -0.214340    -0.000112   \n",
       "1    0.293226 -0.308877 -0.310296 -0.308791 -0.306375    -0.000285   \n",
       "2    0.399447 -0.411721 -0.411090 -0.411004 -0.411586    -0.000421   \n",
       "3    0.408646 -0.424906 -0.424824 -0.423329 -0.418557     0.000150   \n",
       "4    0.444731 -0.457794 -0.458764 -0.455087 -0.457456    -0.000441   \n",
       "\n",
       "   beta1_cost1  beta1_size0  \n",
       "0    -0.000258    -0.005274  \n",
       "1    -0.001085    -0.006505  \n",
       "2    -0.000453    -0.006071  \n",
       "3    -0.000992    -0.006793  \n",
       "4    -0.001696    -0.006513  "
      ]
     },
     "execution_count": 31,
     "metadata": {},
     "output_type": "execute_result"
    }
   ],
   "source": [
    "higher_paramsDF.head()"
   ]
  },
  {
   "cell_type": "code",
   "execution_count": null,
   "metadata": {
    "collapsed": true,
    "deletable": true,
    "editable": true
   },
   "outputs": [],
   "source": []
  },
  {
   "cell_type": "code",
   "execution_count": 32,
   "metadata": {
    "collapsed": false,
    "deletable": true,
    "editable": true
   },
   "outputs": [],
   "source": [
    "#Get median, mode and 95 percentiles \n",
    "higher_params_summary = higher_paramsDF.describe(percentiles=[.025, .25, .5,.75,.975])"
   ]
  },
  {
   "cell_type": "code",
   "execution_count": 33,
   "metadata": {
    "collapsed": false,
    "deletable": true,
    "editable": true
   },
   "outputs": [],
   "source": [
    "higher_params_summary = higher_params_summary.drop(\"count\", axis=0)\n"
   ]
  },
  {
   "cell_type": "code",
   "execution_count": 34,
   "metadata": {
    "collapsed": false,
    "deletable": true,
    "editable": true
   },
   "outputs": [
    {
     "data": {
      "text/html": [
       "<div>\n",
       "<style scoped>\n",
       "    .dataframe tbody tr th:only-of-type {\n",
       "        vertical-align: middle;\n",
       "    }\n",
       "\n",
       "    .dataframe tbody tr th {\n",
       "        vertical-align: top;\n",
       "    }\n",
       "\n",
       "    .dataframe thead th {\n",
       "        text-align: right;\n",
       "    }\n",
       "</style>\n",
       "<table border=\"1\" class=\"dataframe\">\n",
       "  <thead>\n",
       "    <tr style=\"text-align: right;\">\n",
       "      <th></th>\n",
       "      <th>beta1_fy0</th>\n",
       "      <th>mu_b00</th>\n",
       "      <th>sigma_b00</th>\n",
       "      <th>sigma_cm0</th>\n",
       "      <th>sigma0</th>\n",
       "      <th>mu1_lease0</th>\n",
       "      <th>mu1_lease1</th>\n",
       "      <th>mu1_s0</th>\n",
       "      <th>mu1_s1</th>\n",
       "      <th>mu1_s2</th>\n",
       "      <th>mu1_s3</th>\n",
       "      <th>beta1_cost0</th>\n",
       "      <th>beta1_cost1</th>\n",
       "      <th>beta1_size0</th>\n",
       "    </tr>\n",
       "  </thead>\n",
       "  <tbody>\n",
       "    <tr>\n",
       "      <th>mean</th>\n",
       "      <td>-0.002643</td>\n",
       "      <td>-0.036667</td>\n",
       "      <td>0.906922</td>\n",
       "      <td>0.297584</td>\n",
       "      <td>0.328375</td>\n",
       "      <td>0.163047</td>\n",
       "      <td>0.165411</td>\n",
       "      <td>-0.240338</td>\n",
       "      <td>-0.241792</td>\n",
       "      <td>-0.238701</td>\n",
       "      <td>-0.239790</td>\n",
       "      <td>-0.000129</td>\n",
       "      <td>-0.000192</td>\n",
       "      <td>-0.007135</td>\n",
       "    </tr>\n",
       "    <tr>\n",
       "      <th>std</th>\n",
       "      <td>0.000989</td>\n",
       "      <td>0.035419</td>\n",
       "      <td>0.011689</td>\n",
       "      <td>0.009756</td>\n",
       "      <td>0.000567</td>\n",
       "      <td>0.221025</td>\n",
       "      <td>0.220895</td>\n",
       "      <td>0.215747</td>\n",
       "      <td>0.215615</td>\n",
       "      <td>0.215773</td>\n",
       "      <td>0.215979</td>\n",
       "      <td>0.000696</td>\n",
       "      <td>0.000977</td>\n",
       "      <td>0.001245</td>\n",
       "    </tr>\n",
       "    <tr>\n",
       "      <th>min</th>\n",
       "      <td>-0.005633</td>\n",
       "      <td>-0.129058</td>\n",
       "      <td>0.867856</td>\n",
       "      <td>0.269485</td>\n",
       "      <td>0.326395</td>\n",
       "      <td>-0.589319</td>\n",
       "      <td>-0.585398</td>\n",
       "      <td>-0.787613</td>\n",
       "      <td>-0.788646</td>\n",
       "      <td>-0.781954</td>\n",
       "      <td>-0.786476</td>\n",
       "      <td>-0.002282</td>\n",
       "      <td>-0.002834</td>\n",
       "      <td>-0.011487</td>\n",
       "    </tr>\n",
       "    <tr>\n",
       "      <th>2.5%</th>\n",
       "      <td>-0.004485</td>\n",
       "      <td>-0.104093</td>\n",
       "      <td>0.884399</td>\n",
       "      <td>0.279623</td>\n",
       "      <td>0.327312</td>\n",
       "      <td>-0.403677</td>\n",
       "      <td>-0.398974</td>\n",
       "      <td>-0.628713</td>\n",
       "      <td>-0.628296</td>\n",
       "      <td>-0.625251</td>\n",
       "      <td>-0.628541</td>\n",
       "      <td>-0.001549</td>\n",
       "      <td>-0.002002</td>\n",
       "      <td>-0.009379</td>\n",
       "    </tr>\n",
       "    <tr>\n",
       "      <th>25%</th>\n",
       "      <td>-0.003340</td>\n",
       "      <td>-0.065087</td>\n",
       "      <td>0.899302</td>\n",
       "      <td>0.290730</td>\n",
       "      <td>0.327993</td>\n",
       "      <td>0.059707</td>\n",
       "      <td>0.060350</td>\n",
       "      <td>-0.393742</td>\n",
       "      <td>-0.394577</td>\n",
       "      <td>-0.391597</td>\n",
       "      <td>-0.395819</td>\n",
       "      <td>-0.000595</td>\n",
       "      <td>-0.000898</td>\n",
       "      <td>-0.008090</td>\n",
       "    </tr>\n",
       "    <tr>\n",
       "      <th>50%</th>\n",
       "      <td>-0.002636</td>\n",
       "      <td>-0.030995</td>\n",
       "      <td>0.906290</td>\n",
       "      <td>0.296716</td>\n",
       "      <td>0.328365</td>\n",
       "      <td>0.180547</td>\n",
       "      <td>0.182568</td>\n",
       "      <td>-0.247296</td>\n",
       "      <td>-0.250275</td>\n",
       "      <td>-0.245402</td>\n",
       "      <td>-0.249156</td>\n",
       "      <td>-0.000123</td>\n",
       "      <td>-0.000233</td>\n",
       "      <td>-0.007140</td>\n",
       "    </tr>\n",
       "    <tr>\n",
       "      <th>75%</th>\n",
       "      <td>-0.001963</td>\n",
       "      <td>-0.009851</td>\n",
       "      <td>0.914899</td>\n",
       "      <td>0.303501</td>\n",
       "      <td>0.328747</td>\n",
       "      <td>0.291292</td>\n",
       "      <td>0.293625</td>\n",
       "      <td>-0.122536</td>\n",
       "      <td>-0.122192</td>\n",
       "      <td>-0.119809</td>\n",
       "      <td>-0.120868</td>\n",
       "      <td>0.000345</td>\n",
       "      <td>0.000500</td>\n",
       "      <td>-0.006122</td>\n",
       "    </tr>\n",
       "    <tr>\n",
       "      <th>97.5%</th>\n",
       "      <td>-0.000772</td>\n",
       "      <td>0.021271</td>\n",
       "      <td>0.930390</td>\n",
       "      <td>0.318437</td>\n",
       "      <td>0.329487</td>\n",
       "      <td>0.578334</td>\n",
       "      <td>0.579285</td>\n",
       "      <td>0.246034</td>\n",
       "      <td>0.243524</td>\n",
       "      <td>0.250199</td>\n",
       "      <td>0.249506</td>\n",
       "      <td>0.001237</td>\n",
       "      <td>0.001720</td>\n",
       "      <td>-0.005041</td>\n",
       "    </tr>\n",
       "    <tr>\n",
       "      <th>max</th>\n",
       "      <td>0.000447</td>\n",
       "      <td>0.044743</td>\n",
       "      <td>0.946150</td>\n",
       "      <td>0.332558</td>\n",
       "      <td>0.330112</td>\n",
       "      <td>0.695218</td>\n",
       "      <td>0.699721</td>\n",
       "      <td>0.495268</td>\n",
       "      <td>0.493127</td>\n",
       "      <td>0.500786</td>\n",
       "      <td>0.497829</td>\n",
       "      <td>0.002076</td>\n",
       "      <td>0.002919</td>\n",
       "      <td>-0.003906</td>\n",
       "    </tr>\n",
       "  </tbody>\n",
       "</table>\n",
       "</div>"
      ],
      "text/plain": [
       "       beta1_fy0    mu_b00  sigma_b00  sigma_cm0    sigma0  mu1_lease0  \\\n",
       "mean   -0.002643 -0.036667   0.906922   0.297584  0.328375    0.163047   \n",
       "std     0.000989  0.035419   0.011689   0.009756  0.000567    0.221025   \n",
       "min    -0.005633 -0.129058   0.867856   0.269485  0.326395   -0.589319   \n",
       "2.5%   -0.004485 -0.104093   0.884399   0.279623  0.327312   -0.403677   \n",
       "25%    -0.003340 -0.065087   0.899302   0.290730  0.327993    0.059707   \n",
       "50%    -0.002636 -0.030995   0.906290   0.296716  0.328365    0.180547   \n",
       "75%    -0.001963 -0.009851   0.914899   0.303501  0.328747    0.291292   \n",
       "97.5%  -0.000772  0.021271   0.930390   0.318437  0.329487    0.578334   \n",
       "max     0.000447  0.044743   0.946150   0.332558  0.330112    0.695218   \n",
       "\n",
       "       mu1_lease1    mu1_s0    mu1_s1    mu1_s2    mu1_s3  beta1_cost0  \\\n",
       "mean     0.165411 -0.240338 -0.241792 -0.238701 -0.239790    -0.000129   \n",
       "std      0.220895  0.215747  0.215615  0.215773  0.215979     0.000696   \n",
       "min     -0.585398 -0.787613 -0.788646 -0.781954 -0.786476    -0.002282   \n",
       "2.5%    -0.398974 -0.628713 -0.628296 -0.625251 -0.628541    -0.001549   \n",
       "25%      0.060350 -0.393742 -0.394577 -0.391597 -0.395819    -0.000595   \n",
       "50%      0.182568 -0.247296 -0.250275 -0.245402 -0.249156    -0.000123   \n",
       "75%      0.293625 -0.122536 -0.122192 -0.119809 -0.120868     0.000345   \n",
       "97.5%    0.579285  0.246034  0.243524  0.250199  0.249506     0.001237   \n",
       "max      0.699721  0.495268  0.493127  0.500786  0.497829     0.002076   \n",
       "\n",
       "       beta1_cost1  beta1_size0  \n",
       "mean     -0.000192    -0.007135  \n",
       "std       0.000977     0.001245  \n",
       "min      -0.002834    -0.011487  \n",
       "2.5%     -0.002002    -0.009379  \n",
       "25%      -0.000898    -0.008090  \n",
       "50%      -0.000233    -0.007140  \n",
       "75%       0.000500    -0.006122  \n",
       "97.5%     0.001720    -0.005041  \n",
       "max       0.002919    -0.003906  "
      ]
     },
     "execution_count": 34,
     "metadata": {},
     "output_type": "execute_result"
    }
   ],
   "source": [
    "higher_params_summary"
   ]
  },
  {
   "cell_type": "code",
   "execution_count": 35,
   "metadata": {
    "collapsed": false,
    "deletable": true,
    "editable": true
   },
   "outputs": [],
   "source": [
    "higher_params_summary.transpose().to_latex(buf=\"higher_params_summary_table_const.tex\", float_format=\"%.3f'\")"
   ]
  },
  {
   "cell_type": "markdown",
   "metadata": {
    "deletable": true,
    "editable": true
   },
   "source": [
    "### Manufacturer"
   ]
  },
  {
   "cell_type": "code",
   "execution_count": 36,
   "metadata": {
    "collapsed": true,
    "deletable": true,
    "editable": true
   },
   "outputs": [],
   "source": [
    "mu_mDF = addseries(\"mu1_m\", solar_extr)\n",
    "mu_mDF_summ = mu_mDF.describe(percentiles=[.025,.975])\n",
    "mu_mDF_summ = mu_mDF_summ.transpose()\n"
   ]
  },
  {
   "cell_type": "code",
   "execution_count": 37,
   "metadata": {
    "collapsed": false,
    "deletable": true,
    "editable": true
   },
   "outputs": [
    {
     "name": "stderr",
     "output_type": "stream",
     "text": [
      "/usr/local/envs/py3env/lib/python3.5/site-packages/matplotlib/font_manager.py:1320: UserWarning: findfont: Font family ['sans-serif'] not found. Falling back to DejaVu Sans\n",
      "  (prop.get_family(), self.defaultFamily[fontext]))\n"
     ]
    },
    {
     "data": {
      "image/png": "[encoded data removed]",
      "text/plain": [
       "<matplotlib.figure.Figure at 0x7fac352fe358>"
      ]
     },
     "metadata": {},
     "output_type": "display_data"
    }
   ],
   "source": [
    "mu_mDF_summ = mu_mDF_summ.sort_values(\"50%\")\n",
    "mu_mDF_summ[\"ord\"]=[i for i in range(mu_mDF_summ.shape[0])]\n",
    "fig, ax = plt.subplots()\n",
    "#ax.fill_between(mu_mDF_summ[\"ord\"], mu_mDF_summ[\"2.5%\"], mu_mDF_summ[\"97.5%\"])\n",
    "ax.vlines(mu_mDF_summ[\"ord\"], mu_mDF_summ[\"2.5%\"], mu_mDF_summ[\"97.5%\"])\n",
    "ax.xaxis.set_ticklabels([])\n",
    "ax.set_ylabel(\"95% interval, $\\mu^{manuf}$\")\n",
    "ax.set_ylim(-.5,.5)\n",
    "fig.savefig(\"BayManPlot_const\", dpi=300)\n",
    "plt.show()\n"
   ]
  },
  {
   "cell_type": "markdown",
   "metadata": {
    "deletable": true,
    "editable": true
   },
   "source": [
    "### County"
   ]
  },
  {
   "cell_type": "code",
   "execution_count": 38,
   "metadata": {
    "collapsed": false,
    "deletable": true,
    "editable": true
   },
   "outputs": [],
   "source": [
    "#mu_cDF = addseries(\"mu1_c\", solar_extr)\n"
   ]
  },
  {
   "cell_type": "code",
   "execution_count": null,
   "metadata": {
    "collapsed": false,
    "deletable": true,
    "editable": true
   },
   "outputs": [],
   "source": []
  },
  {
   "cell_type": "code",
   "execution_count": null,
   "metadata": {
    "collapsed": false,
    "deletable": true,
    "editable": true
   },
   "outputs": [],
   "source": []
  },
  {
   "cell_type": "markdown",
   "metadata": {
    "deletable": true,
    "editable": true
   },
   "source": [
    "### alpha and beta"
   ]
  },
  {
   "cell_type": "code",
   "execution_count": 39,
   "metadata": {
    "collapsed": true,
    "deletable": true,
    "editable": true
   },
   "outputs": [],
   "source": [
    "b0DF = addseries(\"b0\", solar_extr)\n",
    "b1DF = addseries(\"b1\", solar_extr)"
   ]
  },
  {
   "cell_type": "code",
   "execution_count": 40,
   "metadata": {
    "collapsed": false,
    "deletable": true,
    "editable": true
   },
   "outputs": [
    {
     "data": {
      "text/html": [
       "<div>\n",
       "<style scoped>\n",
       "    .dataframe tbody tr th:only-of-type {\n",
       "        vertical-align: middle;\n",
       "    }\n",
       "\n",
       "    .dataframe tbody tr th {\n",
       "        vertical-align: top;\n",
       "    }\n",
       "\n",
       "    .dataframe thead th {\n",
       "        text-align: right;\n",
       "    }\n",
       "</style>\n",
       "<table border=\"1\" class=\"dataframe\">\n",
       "  <thead>\n",
       "    <tr style=\"text-align: right;\">\n",
       "      <th></th>\n",
       "      <th>b00</th>\n",
       "      <th>b01</th>\n",
       "      <th>b02</th>\n",
       "      <th>b03</th>\n",
       "      <th>b04</th>\n",
       "      <th>b05</th>\n",
       "      <th>b06</th>\n",
       "      <th>b07</th>\n",
       "      <th>b08</th>\n",
       "      <th>b09</th>\n",
       "      <th>b010</th>\n",
       "      <th>b011</th>\n",
       "      <th>b012</th>\n",
       "      <th>b013</th>\n",
       "      <th>b014</th>\n",
       "      <th>b015</th>\n",
       "      <th>b016</th>\n",
       "      <th>b017</th>\n",
       "      <th>b018</th>\n",
       "      <th>b019</th>\n",
       "      <th>b020</th>\n",
       "      <th>b021</th>\n",
       "      <th>b022</th>\n",
       "      <th>b023</th>\n",
       "      <th>b024</th>\n",
       "      <th>...</th>\n",
       "      <th>b03120</th>\n",
       "      <th>b03121</th>\n",
       "      <th>b03122</th>\n",
       "      <th>b03123</th>\n",
       "      <th>b03124</th>\n",
       "      <th>b03125</th>\n",
       "      <th>b03126</th>\n",
       "      <th>b03127</th>\n",
       "      <th>b03128</th>\n",
       "      <th>b03129</th>\n",
       "      <th>b03130</th>\n",
       "      <th>b03131</th>\n",
       "      <th>b03132</th>\n",
       "      <th>b03133</th>\n",
       "      <th>b03134</th>\n",
       "      <th>b03135</th>\n",
       "      <th>b03136</th>\n",
       "      <th>b03137</th>\n",
       "      <th>b03138</th>\n",
       "      <th>b03139</th>\n",
       "      <th>b03140</th>\n",
       "      <th>b03141</th>\n",
       "      <th>b03142</th>\n",
       "      <th>b03143</th>\n",
       "      <th>b03144</th>\n",
       "    </tr>\n",
       "  </thead>\n",
       "  <tbody>\n",
       "    <tr>\n",
       "      <th>0</th>\n",
       "      <td>0.156184</td>\n",
       "      <td>-0.442242</td>\n",
       "      <td>0.289254</td>\n",
       "      <td>-0.041056</td>\n",
       "      <td>0.608488</td>\n",
       "      <td>0.574916</td>\n",
       "      <td>-0.297762</td>\n",
       "      <td>-0.405453</td>\n",
       "      <td>-0.251226</td>\n",
       "      <td>-0.352413</td>\n",
       "      <td>-0.148353</td>\n",
       "      <td>0.506886</td>\n",
       "      <td>0.184081</td>\n",
       "      <td>0.163319</td>\n",
       "      <td>-0.451479</td>\n",
       "      <td>2.107221</td>\n",
       "      <td>-0.546620</td>\n",
       "      <td>-0.354151</td>\n",
       "      <td>-0.333779</td>\n",
       "      <td>-0.449280</td>\n",
       "      <td>-0.319512</td>\n",
       "      <td>-0.435096</td>\n",
       "      <td>2.609328</td>\n",
       "      <td>0.532421</td>\n",
       "      <td>-0.130745</td>\n",
       "      <td>...</td>\n",
       "      <td>-0.352800</td>\n",
       "      <td>-0.602771</td>\n",
       "      <td>-0.585647</td>\n",
       "      <td>-0.345835</td>\n",
       "      <td>0.058499</td>\n",
       "      <td>-0.517987</td>\n",
       "      <td>-0.345807</td>\n",
       "      <td>1.815705</td>\n",
       "      <td>0.525190</td>\n",
       "      <td>-0.426593</td>\n",
       "      <td>-0.374928</td>\n",
       "      <td>-0.476397</td>\n",
       "      <td>-0.731406</td>\n",
       "      <td>-0.130256</td>\n",
       "      <td>-0.623439</td>\n",
       "      <td>-0.159509</td>\n",
       "      <td>-0.401170</td>\n",
       "      <td>0.440457</td>\n",
       "      <td>1.587184</td>\n",
       "      <td>-0.742813</td>\n",
       "      <td>1.650729</td>\n",
       "      <td>-0.459514</td>\n",
       "      <td>-0.538942</td>\n",
       "      <td>2.383793</td>\n",
       "      <td>-0.467607</td>\n",
       "    </tr>\n",
       "    <tr>\n",
       "      <th>1</th>\n",
       "      <td>0.069899</td>\n",
       "      <td>-0.460714</td>\n",
       "      <td>0.349687</td>\n",
       "      <td>-0.079710</td>\n",
       "      <td>0.583987</td>\n",
       "      <td>0.616076</td>\n",
       "      <td>-0.301899</td>\n",
       "      <td>-0.334671</td>\n",
       "      <td>-0.302926</td>\n",
       "      <td>-0.298895</td>\n",
       "      <td>-0.274734</td>\n",
       "      <td>0.480246</td>\n",
       "      <td>0.184322</td>\n",
       "      <td>0.255426</td>\n",
       "      <td>-0.459358</td>\n",
       "      <td>2.080694</td>\n",
       "      <td>-0.565307</td>\n",
       "      <td>-0.273817</td>\n",
       "      <td>-0.430121</td>\n",
       "      <td>-0.307392</td>\n",
       "      <td>-0.467298</td>\n",
       "      <td>-0.390014</td>\n",
       "      <td>2.505068</td>\n",
       "      <td>0.486844</td>\n",
       "      <td>-0.141266</td>\n",
       "      <td>...</td>\n",
       "      <td>-0.332953</td>\n",
       "      <td>-0.497076</td>\n",
       "      <td>-0.604761</td>\n",
       "      <td>-0.338671</td>\n",
       "      <td>0.033941</td>\n",
       "      <td>-0.551105</td>\n",
       "      <td>-0.397573</td>\n",
       "      <td>1.791607</td>\n",
       "      <td>0.483013</td>\n",
       "      <td>-0.413128</td>\n",
       "      <td>-0.427764</td>\n",
       "      <td>-0.524133</td>\n",
       "      <td>-0.697078</td>\n",
       "      <td>-0.109220</td>\n",
       "      <td>-0.559775</td>\n",
       "      <td>-0.251371</td>\n",
       "      <td>-0.339479</td>\n",
       "      <td>0.431874</td>\n",
       "      <td>1.641489</td>\n",
       "      <td>-0.565109</td>\n",
       "      <td>1.606425</td>\n",
       "      <td>-0.630933</td>\n",
       "      <td>-0.555158</td>\n",
       "      <td>2.274967</td>\n",
       "      <td>-0.520603</td>\n",
       "    </tr>\n",
       "    <tr>\n",
       "      <th>2</th>\n",
       "      <td>0.014109</td>\n",
       "      <td>-0.532009</td>\n",
       "      <td>0.306167</td>\n",
       "      <td>0.038569</td>\n",
       "      <td>0.505183</td>\n",
       "      <td>0.550662</td>\n",
       "      <td>-0.317010</td>\n",
       "      <td>-0.410217</td>\n",
       "      <td>-0.290053</td>\n",
       "      <td>-0.294749</td>\n",
       "      <td>-0.160175</td>\n",
       "      <td>0.471852</td>\n",
       "      <td>0.141718</td>\n",
       "      <td>0.136623</td>\n",
       "      <td>-0.461358</td>\n",
       "      <td>2.054548</td>\n",
       "      <td>-0.540035</td>\n",
       "      <td>-0.310214</td>\n",
       "      <td>-0.425494</td>\n",
       "      <td>-0.509416</td>\n",
       "      <td>-0.519672</td>\n",
       "      <td>-0.440994</td>\n",
       "      <td>2.507050</td>\n",
       "      <td>0.447822</td>\n",
       "      <td>-0.155312</td>\n",
       "      <td>...</td>\n",
       "      <td>-0.280249</td>\n",
       "      <td>-0.480498</td>\n",
       "      <td>-0.572097</td>\n",
       "      <td>-0.297037</td>\n",
       "      <td>0.119639</td>\n",
       "      <td>-0.486895</td>\n",
       "      <td>-0.375441</td>\n",
       "      <td>1.833188</td>\n",
       "      <td>0.586984</td>\n",
       "      <td>-0.385827</td>\n",
       "      <td>-0.518422</td>\n",
       "      <td>-0.368942</td>\n",
       "      <td>-0.656011</td>\n",
       "      <td>0.014175</td>\n",
       "      <td>-0.499113</td>\n",
       "      <td>-0.136946</td>\n",
       "      <td>-0.196018</td>\n",
       "      <td>0.531472</td>\n",
       "      <td>1.644221</td>\n",
       "      <td>-0.527720</td>\n",
       "      <td>1.759794</td>\n",
       "      <td>-0.566378</td>\n",
       "      <td>-0.461072</td>\n",
       "      <td>2.331215</td>\n",
       "      <td>-0.442695</td>\n",
       "    </tr>\n",
       "    <tr>\n",
       "      <th>3</th>\n",
       "      <td>0.074420</td>\n",
       "      <td>-0.437845</td>\n",
       "      <td>0.331747</td>\n",
       "      <td>-0.007037</td>\n",
       "      <td>0.498129</td>\n",
       "      <td>0.599064</td>\n",
       "      <td>-0.368359</td>\n",
       "      <td>-0.293983</td>\n",
       "      <td>-0.355072</td>\n",
       "      <td>-0.308049</td>\n",
       "      <td>-0.163417</td>\n",
       "      <td>0.396488</td>\n",
       "      <td>0.218416</td>\n",
       "      <td>0.250630</td>\n",
       "      <td>-0.440504</td>\n",
       "      <td>2.126051</td>\n",
       "      <td>-0.569213</td>\n",
       "      <td>-0.267639</td>\n",
       "      <td>-0.426730</td>\n",
       "      <td>-0.394693</td>\n",
       "      <td>-0.438693</td>\n",
       "      <td>-0.450511</td>\n",
       "      <td>2.617847</td>\n",
       "      <td>0.521901</td>\n",
       "      <td>-0.117089</td>\n",
       "      <td>...</td>\n",
       "      <td>-0.268292</td>\n",
       "      <td>-0.489031</td>\n",
       "      <td>-0.603981</td>\n",
       "      <td>-0.327788</td>\n",
       "      <td>0.031076</td>\n",
       "      <td>-0.510075</td>\n",
       "      <td>-0.252427</td>\n",
       "      <td>1.765900</td>\n",
       "      <td>0.616767</td>\n",
       "      <td>-0.484320</td>\n",
       "      <td>-0.437665</td>\n",
       "      <td>-0.442604</td>\n",
       "      <td>-0.696788</td>\n",
       "      <td>0.054369</td>\n",
       "      <td>-0.486506</td>\n",
       "      <td>-0.138105</td>\n",
       "      <td>-0.289255</td>\n",
       "      <td>0.441551</td>\n",
       "      <td>1.637709</td>\n",
       "      <td>-0.705896</td>\n",
       "      <td>1.667788</td>\n",
       "      <td>-0.589622</td>\n",
       "      <td>-0.409788</td>\n",
       "      <td>2.251370</td>\n",
       "      <td>-0.580592</td>\n",
       "    </tr>\n",
       "    <tr>\n",
       "      <th>4</th>\n",
       "      <td>0.105656</td>\n",
       "      <td>-0.432409</td>\n",
       "      <td>0.280484</td>\n",
       "      <td>-0.067828</td>\n",
       "      <td>0.596679</td>\n",
       "      <td>0.627001</td>\n",
       "      <td>-0.404834</td>\n",
       "      <td>-0.254498</td>\n",
       "      <td>-0.314207</td>\n",
       "      <td>-0.318536</td>\n",
       "      <td>-0.280642</td>\n",
       "      <td>0.524707</td>\n",
       "      <td>0.136999</td>\n",
       "      <td>0.211330</td>\n",
       "      <td>-0.421087</td>\n",
       "      <td>2.115066</td>\n",
       "      <td>-0.566459</td>\n",
       "      <td>-0.389687</td>\n",
       "      <td>-0.361940</td>\n",
       "      <td>-0.466927</td>\n",
       "      <td>-0.439304</td>\n",
       "      <td>-0.449339</td>\n",
       "      <td>2.560702</td>\n",
       "      <td>0.507349</td>\n",
       "      <td>-0.162837</td>\n",
       "      <td>...</td>\n",
       "      <td>-0.315557</td>\n",
       "      <td>-0.523551</td>\n",
       "      <td>-0.616114</td>\n",
       "      <td>-0.325156</td>\n",
       "      <td>-0.002781</td>\n",
       "      <td>-0.519158</td>\n",
       "      <td>-0.325276</td>\n",
       "      <td>1.750636</td>\n",
       "      <td>0.543808</td>\n",
       "      <td>-0.502265</td>\n",
       "      <td>-0.574565</td>\n",
       "      <td>-0.425993</td>\n",
       "      <td>-0.660327</td>\n",
       "      <td>-0.036286</td>\n",
       "      <td>-0.532462</td>\n",
       "      <td>-0.190301</td>\n",
       "      <td>-0.232882</td>\n",
       "      <td>0.399183</td>\n",
       "      <td>1.634357</td>\n",
       "      <td>-0.648318</td>\n",
       "      <td>1.650077</td>\n",
       "      <td>-0.580026</td>\n",
       "      <td>-0.551641</td>\n",
       "      <td>2.427830</td>\n",
       "      <td>-0.483385</td>\n",
       "    </tr>\n",
       "  </tbody>\n",
       "</table>\n",
       "<p>5 rows × 3145 columns</p>\n",
       "</div>"
      ],
      "text/plain": [
       "        b00       b01       b02       b03       b04       b05       b06  \\\n",
       "0  0.156184 -0.442242  0.289254 -0.041056  0.608488  0.574916 -0.297762   \n",
       "1  0.069899 -0.460714  0.349687 -0.079710  0.583987  0.616076 -0.301899   \n",
       "2  0.014109 -0.532009  0.306167  0.038569  0.505183  0.550662 -0.317010   \n",
       "3  0.074420 -0.437845  0.331747 -0.007037  0.498129  0.599064 -0.368359   \n",
       "4  0.105656 -0.432409  0.280484 -0.067828  0.596679  0.627001 -0.404834   \n",
       "\n",
       "        b07       b08       b09      b010      b011      b012      b013  \\\n",
       "0 -0.405453 -0.251226 -0.352413 -0.148353  0.506886  0.184081  0.163319   \n",
       "1 -0.334671 -0.302926 -0.298895 -0.274734  0.480246  0.184322  0.255426   \n",
       "2 -0.410217 -0.290053 -0.294749 -0.160175  0.471852  0.141718  0.136623   \n",
       "3 -0.293983 -0.355072 -0.308049 -0.163417  0.396488  0.218416  0.250630   \n",
       "4 -0.254498 -0.314207 -0.318536 -0.280642  0.524707  0.136999  0.211330   \n",
       "\n",
       "       b014      b015      b016      b017      b018      b019      b020  \\\n",
       "0 -0.451479  2.107221 -0.546620 -0.354151 -0.333779 -0.449280 -0.319512   \n",
       "1 -0.459358  2.080694 -0.565307 -0.273817 -0.430121 -0.307392 -0.467298   \n",
       "2 -0.461358  2.054548 -0.540035 -0.310214 -0.425494 -0.509416 -0.519672   \n",
       "3 -0.440504  2.126051 -0.569213 -0.267639 -0.426730 -0.394693 -0.438693   \n",
       "4 -0.421087  2.115066 -0.566459 -0.389687 -0.361940 -0.466927 -0.439304   \n",
       "\n",
       "       b021      b022      b023      b024    ...       b03120    b03121  \\\n",
       "0 -0.435096  2.609328  0.532421 -0.130745    ...    -0.352800 -0.602771   \n",
       "1 -0.390014  2.505068  0.486844 -0.141266    ...    -0.332953 -0.497076   \n",
       "2 -0.440994  2.507050  0.447822 -0.155312    ...    -0.280249 -0.480498   \n",
       "3 -0.450511  2.617847  0.521901 -0.117089    ...    -0.268292 -0.489031   \n",
       "4 -0.449339  2.560702  0.507349 -0.162837    ...    -0.315557 -0.523551   \n",
       "\n",
       "     b03122    b03123    b03124    b03125    b03126    b03127    b03128  \\\n",
       "0 -0.585647 -0.345835  0.058499 -0.517987 -0.345807  1.815705  0.525190   \n",
       "1 -0.604761 -0.338671  0.033941 -0.551105 -0.397573  1.791607  0.483013   \n",
       "2 -0.572097 -0.297037  0.119639 -0.486895 -0.375441  1.833188  0.586984   \n",
       "3 -0.603981 -0.327788  0.031076 -0.510075 -0.252427  1.765900  0.616767   \n",
       "4 -0.616114 -0.325156 -0.002781 -0.519158 -0.325276  1.750636  0.543808   \n",
       "\n",
       "     b03129    b03130    b03131    b03132    b03133    b03134    b03135  \\\n",
       "0 -0.426593 -0.374928 -0.476397 -0.731406 -0.130256 -0.623439 -0.159509   \n",
       "1 -0.413128 -0.427764 -0.524133 -0.697078 -0.109220 -0.559775 -0.251371   \n",
       "2 -0.385827 -0.518422 -0.368942 -0.656011  0.014175 -0.499113 -0.136946   \n",
       "3 -0.484320 -0.437665 -0.442604 -0.696788  0.054369 -0.486506 -0.138105   \n",
       "4 -0.502265 -0.574565 -0.425993 -0.660327 -0.036286 -0.532462 -0.190301   \n",
       "\n",
       "     b03136    b03137    b03138    b03139    b03140    b03141    b03142  \\\n",
       "0 -0.401170  0.440457  1.587184 -0.742813  1.650729 -0.459514 -0.538942   \n",
       "1 -0.339479  0.431874  1.641489 -0.565109  1.606425 -0.630933 -0.555158   \n",
       "2 -0.196018  0.531472  1.644221 -0.527720  1.759794 -0.566378 -0.461072   \n",
       "3 -0.289255  0.441551  1.637709 -0.705896  1.667788 -0.589622 -0.409788   \n",
       "4 -0.232882  0.399183  1.634357 -0.648318  1.650077 -0.580026 -0.551641   \n",
       "\n",
       "     b03143    b03144  \n",
       "0  2.383793 -0.467607  \n",
       "1  2.274967 -0.520603  \n",
       "2  2.331215 -0.442695  \n",
       "3  2.251370 -0.580592  \n",
       "4  2.427830 -0.483385  \n",
       "\n",
       "[5 rows x 3145 columns]"
      ]
     },
     "execution_count": 40,
     "metadata": {},
     "output_type": "execute_result"
    }
   ],
   "source": [
    "b0DF.head()"
   ]
  },
  {
   "cell_type": "code",
   "execution_count": null,
   "metadata": {
    "collapsed": true,
    "deletable": true,
    "editable": true
   },
   "outputs": [],
   "source": []
  },
  {
   "cell_type": "code",
   "execution_count": 41,
   "metadata": {
    "collapsed": true,
    "deletable": true,
    "editable": true
   },
   "outputs": [],
   "source": [
    "b0DF_summ = b0DF.describe(percentiles=[.025,.975])\n",
    "b1DF_summ = b1DF.describe(percentiles=[.025,.975])"
   ]
  },
  {
   "cell_type": "code",
   "execution_count": 42,
   "metadata": {
    "collapsed": true,
    "deletable": true,
    "editable": true
   },
   "outputs": [],
   "source": [
    "b0DF_summ = b0DF_summ.transpose()\n",
    "b1DF_summ = b1DF_summ.transpose()"
   ]
  },
  {
   "cell_type": "code",
   "execution_count": 43,
   "metadata": {
    "collapsed": false,
    "deletable": true,
    "editable": true
   },
   "outputs": [
    {
     "data": {
      "text/html": [
       "<div>\n",
       "<style scoped>\n",
       "    .dataframe tbody tr th:only-of-type {\n",
       "        vertical-align: middle;\n",
       "    }\n",
       "\n",
       "    .dataframe tbody tr th {\n",
       "        vertical-align: top;\n",
       "    }\n",
       "\n",
       "    .dataframe thead th {\n",
       "        text-align: right;\n",
       "    }\n",
       "</style>\n",
       "<table border=\"1\" class=\"dataframe\">\n",
       "  <thead>\n",
       "    <tr style=\"text-align: right;\">\n",
       "      <th></th>\n",
       "      <th>count</th>\n",
       "      <th>mean</th>\n",
       "      <th>std</th>\n",
       "      <th>min</th>\n",
       "      <th>2.5%</th>\n",
       "      <th>50%</th>\n",
       "      <th>97.5%</th>\n",
       "      <th>max</th>\n",
       "    </tr>\n",
       "  </thead>\n",
       "  <tbody>\n",
       "    <tr>\n",
       "      <th>b00</th>\n",
       "      <td>2000.0</td>\n",
       "      <td>0.000720</td>\n",
       "      <td>0.056089</td>\n",
       "      <td>-0.160579</td>\n",
       "      <td>-0.098261</td>\n",
       "      <td>-0.004704</td>\n",
       "      <td>0.111421</td>\n",
       "      <td>0.175445</td>\n",
       "    </tr>\n",
       "    <tr>\n",
       "      <th>b01</th>\n",
       "      <td>2000.0</td>\n",
       "      <td>-0.489935</td>\n",
       "      <td>0.056689</td>\n",
       "      <td>-0.663870</td>\n",
       "      <td>-0.606206</td>\n",
       "      <td>-0.488203</td>\n",
       "      <td>-0.385262</td>\n",
       "      <td>-0.344783</td>\n",
       "    </tr>\n",
       "    <tr>\n",
       "      <th>b02</th>\n",
       "      <td>2000.0</td>\n",
       "      <td>0.272117</td>\n",
       "      <td>0.059332</td>\n",
       "      <td>0.111295</td>\n",
       "      <td>0.166375</td>\n",
       "      <td>0.270553</td>\n",
       "      <td>0.397082</td>\n",
       "      <td>0.493167</td>\n",
       "    </tr>\n",
       "    <tr>\n",
       "      <th>b03</th>\n",
       "      <td>2000.0</td>\n",
       "      <td>-0.082212</td>\n",
       "      <td>0.053800</td>\n",
       "      <td>-0.240388</td>\n",
       "      <td>-0.173609</td>\n",
       "      <td>-0.085498</td>\n",
       "      <td>0.030410</td>\n",
       "      <td>0.093940</td>\n",
       "    </tr>\n",
       "    <tr>\n",
       "      <th>b04</th>\n",
       "      <td>2000.0</td>\n",
       "      <td>0.476860</td>\n",
       "      <td>0.056377</td>\n",
       "      <td>0.324977</td>\n",
       "      <td>0.375457</td>\n",
       "      <td>0.473121</td>\n",
       "      <td>0.596086</td>\n",
       "      <td>0.644379</td>\n",
       "    </tr>\n",
       "  </tbody>\n",
       "</table>\n",
       "</div>"
      ],
      "text/plain": [
       "      count      mean       std       min      2.5%       50%     97.5%  \\\n",
       "b00  2000.0  0.000720  0.056089 -0.160579 -0.098261 -0.004704  0.111421   \n",
       "b01  2000.0 -0.489935  0.056689 -0.663870 -0.606206 -0.488203 -0.385262   \n",
       "b02  2000.0  0.272117  0.059332  0.111295  0.166375  0.270553  0.397082   \n",
       "b03  2000.0 -0.082212  0.053800 -0.240388 -0.173609 -0.085498  0.030410   \n",
       "b04  2000.0  0.476860  0.056377  0.324977  0.375457  0.473121  0.596086   \n",
       "\n",
       "          max  \n",
       "b00  0.175445  \n",
       "b01 -0.344783  \n",
       "b02  0.493167  \n",
       "b03  0.093940  \n",
       "b04  0.644379  "
      ]
     },
     "execution_count": 43,
     "metadata": {},
     "output_type": "execute_result"
    }
   ],
   "source": [
    "b0DF_summ.head()"
   ]
  },
  {
   "cell_type": "code",
   "execution_count": 44,
   "metadata": {
    "collapsed": false,
    "deletable": true,
    "editable": true
   },
   "outputs": [
    {
     "data": {
      "text/plain": [
       "3145"
      ]
     },
     "execution_count": 44,
     "metadata": {},
     "output_type": "execute_result"
    }
   ],
   "source": [
    "b0DF_summ.shape[0]\n"
   ]
  },
  {
   "cell_type": "code",
   "execution_count": 45,
   "metadata": {
    "collapsed": false,
    "deletable": true,
    "editable": true
   },
   "outputs": [
    {
     "name": "stderr",
     "output_type": "stream",
     "text": [
      "/usr/local/envs/py3env/lib/python3.5/site-packages/matplotlib/font_manager.py:1320: UserWarning: findfont: Font family ['sans-serif'] not found. Falling back to DejaVu Sans\n",
      "  (prop.get_family(), self.defaultFamily[fontext]))\n"
     ]
    },
    {
     "data": {
      "image/png": "[encoded data removed]",
      "text/plain": [
       "<matplotlib.figure.Figure at 0x7fac350df8d0>"
      ]
     },
     "metadata": {},
     "output_type": "display_data"
    }
   ],
   "source": [
    "b0DF_summ = b0DF_summ.sort_values(\"50%\")\n",
    "b0DF_summ[\"ord\"]=[i for i in range(b0DF_summ.shape[0])]\n",
    "fig, ax = plt.subplots()\n",
    "#ax.fill_between(b0DF_summ[\"ord\"], b0DF_summ[\"2.5%\"], b0DF_summ[\"97.5%\"])\n",
    "ax.vlines(b0DF_summ[\"ord\"], b0DF_summ[\"2.5%\"], b0DF_summ[\"97.5%\"])\n",
    "ax.xaxis.set_ticklabels([])\n",
    "ax.set_ylabel(\"95% interval, $a_s$\")\n",
    "ax.set_ylim(-1,4)\n",
    "fig.savefig(\"Bay_as_const.png\", dpi=300)\n",
    "plt.show()"
   ]
  },
  {
   "cell_type": "code",
   "execution_count": 46,
   "metadata": {
    "collapsed": false,
    "deletable": true,
    "editable": true
   },
   "outputs": [
    {
     "name": "stderr",
     "output_type": "stream",
     "text": [
      "/usr/local/envs/py3env/lib/python3.5/site-packages/matplotlib/font_manager.py:1320: UserWarning: findfont: Font family ['sans-serif'] not found. Falling back to DejaVu Sans\n",
      "  (prop.get_family(), self.defaultFamily[fontext]))\n"
     ]
    },
    {
     "data": {
      "image/png": "[encoded data removed]",
      "text/plain": [
       "<matplotlib.figure.Figure at 0x7fac354cacc0>"
      ]
     },
     "metadata": {},
     "output_type": "display_data"
    }
   ],
   "source": [
    "b1DF_summ = b1DF_summ.sort_values(\"50%\")\n",
    "b1DF_summ[\"ord\"]=[i for i in range(b0DF_summ.shape[0])]\n",
    "fig, ax = plt.subplots()\n",
    "ax.vlines(b1DF_summ[\"ord\"], b1DF_summ[\"2.5%\"], b1DF_summ[\"97.5%\"])\n",
    "#ax.fill_between(b1DF_summ[\"ord\"], b1DF_summ[\"2.5%\"], b1DF_summ[\"97.5%\"])\n",
    "ax.xaxis.set_ticklabels([])\n",
    "ax.set_ylabel(\"95% confidence interval, $b_s$\")\n",
    "ax.set_ylim(-.5,.5)\n",
    "fig.savefig(\"Bay_bs_const.png\", dpi=300)\n",
    "plt.show()"
   ]
  },
  {
   "cell_type": "code",
   "execution_count": null,
   "metadata": {
    "collapsed": true,
    "deletable": true,
    "editable": true
   },
   "outputs": [],
   "source": []
  },
  {
   "cell_type": "code",
   "execution_count": null,
   "metadata": {
    "collapsed": true,
    "deletable": true,
    "editable": true
   },
   "outputs": [],
   "source": []
  },
  {
   "cell_type": "code",
   "execution_count": null,
   "metadata": {
    "collapsed": true,
    "deletable": true,
    "editable": true
   },
   "outputs": [],
   "source": []
  }
 ],
 "metadata": {
  "kernelspec": {
   "display_name": "Python 3",
   "language": "python",
   "name": "python3"
  },
  "language_info": {
   "codemirror_mode": {
    "name": "ipython",
    "version": 3
   },
   "file_extension": ".py",
   "mimetype": "text/x-python",
   "name": "python",
   "nbconvert_exporter": "python",
   "pygments_lexer": "ipython3",
   "version": "3.5.5"
  }
 },
 "nbformat": 4,
 "nbformat_minor": 2
}
