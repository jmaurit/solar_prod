{
 "cells": [
  {
   "cell_type": "markdown",
   "metadata": {},
   "source": [
    "# Analysis of Stan results (from process run on gcp)"
   ]
  },
  {
   "cell_type": "markdown",
   "metadata": {},
   "source": [
    "### Last updated May 31st, 2018"
   ]
  },
  {
   "cell_type": "code",
   "execution_count": 1,
   "metadata": {},
   "outputs": [
    {
     "name": "stdout",
     "output_type": "stream",
     "text": [
      "Collecting pystan\n",
      "  Using cached https://files.pythonhosted.org/packages/96/62/1b9e1d0a4ce73f1f649c2d1370c1bc33a4933c127716490528ca3bfc043d/pystan-2.17.1.0-cp35-cp35m-manylinux1_x86_64.whl\n",
      "Collecting Cython!=0.25.1,>=0.22 (from pystan)\n",
      "  Using cached https://files.pythonhosted.org/packages/e9/87/d1880619f40f7ae1ec33ab6e798c74726b67dea287698efa6a1154d41701/Cython-0.28.3-cp35-cp35m-manylinux1_x86_64.whl\n",
      "Requirement already satisfied: numpy>=1.7 in /usr/local/envs/py3env/lib/python3.5/site-packages (from pystan)\n",
      "Installing collected packages: Cython, pystan\n",
      "Successfully installed Cython-0.28.3 pystan-2.17.1.0\n",
      "\u001b[33mYou are using pip version 9.0.3, however version 10.0.1 is available.\n",
      "You should consider upgrading via the 'pip install --upgrade pip' command.\u001b[0m\n"
     ]
    }
   ],
   "source": [
    "!pip3 install pystan\n",
    "#!pip3 install feather-format"
   ]
  },
  {
   "cell_type": "code",
   "execution_count": 2,
   "metadata": {
    "collapsed": true
   },
   "outputs": [],
   "source": [
    "#import feather"
   ]
  },
  {
   "cell_type": "code",
   "execution_count": 3,
   "metadata": {},
   "outputs": [
    {
     "name": "stderr",
     "output_type": "stream",
     "text": [
      "/usr/local/envs/py3env/lib/python3.5/site-packages/statsmodels/compat/pandas.py:56: FutureWarning: The pandas.core.datetools module is deprecated and will be removed in a future version. Please use the pandas.tseries module instead.\n",
      "  from pandas.core import datetools\n"
     ]
    }
   ],
   "source": [
    "import pandas as pd\n",
    "import tabulate as tab\n",
    "import numpy as np\n",
    "import matplotlib as mpt\n",
    "import matplotlib.pyplot as plt\n",
    "import matplotlib.patches as mpatches\n",
    "import seaborn as sns\n",
    "import statsmodels.formula.api as smf\n",
    "import statsmodels.api as sm\n",
    "import sys\n",
    "import pystan\n",
    "import scipy\n",
    "import pickle\n",
    "\n",
    "pd.options.display.max_rows = 999\n",
    "pd.options.display.max_columns = 50\n",
    "\n",
    "plt.rcParams['xtick.labelsize'] = 14\n",
    "plt.rcParams['ytick.labelsize'] = 14\n",
    "plt.rcParams['axes.facecolor'] =\"white\"\n",
    "plt.rcParams['grid.color'] =\"grey\"\n",
    "plt.rcParams['grid.linestyle'] = \"dotted\"\n",
    "plt.rcParams[\"axes.labelsize\"]= 14\n",
    "#plt.rcParams['figure.savefig.dpi'] = 100\n",
    "plt.rcParams['savefig.edgecolor'] = \"#f2f2f2\"\n",
    "plt.rcParams['savefig.facecolor'] =\"white\"\n",
    "plt.rcParams[\"figure.figsize\"] = [15,8]\n",
    "plt.rcParams['savefig.bbox'] = \"tight\"\n",
    "plt.rcParams['font.size'] = 14\n",
    "greens = ['#66c2a4','#41ae76','#238b45','#006d2c','#00441b']\n",
    "multi =['#66c2a4','#1f78b4','#a6cee3','#b2df8a','#33a02c','#fb9a99','#e31a1c','#fdbf6f']\n",
    "#plt.rcParams[\"axes.color_cycle\"] = multi\n",
    "\n"
   ]
  },
  {
   "cell_type": "code",
   "execution_count": 4,
   "metadata": {
    "collapsed": true
   },
   "outputs": [],
   "source": [
    "import google.datalab.storage as storage\n",
    "#get bucket names\n",
    "from google.datalab import Context\n",
    "import random, string\n",
    "from io import BytesIO"
   ]
  },
  {
   "cell_type": "markdown",
   "metadata": {},
   "source": [
    "### Functions"
   ]
  },
  {
   "cell_type": "code",
   "execution_count": 5,
   "metadata": {
    "collapsed": true
   },
   "outputs": [],
   "source": [
    "#import stan_helpers #get_cent_interval, post_sample\n",
    "\n",
    "def get_cent_interval(sample, conf=.95):\n",
    "\tp=1-conf\n",
    "\tsample = np.sort(sample)\n",
    "\tn_sample = len(sample)\n",
    "\tlow_ci = sample[round(n_sample*(p/2))]\n",
    "\thigh_ci = sample[round(n_sample*(1-p/2))]\n",
    "\treturn([low_ci, high_ci])\n"
   ]
  },
  {
   "cell_type": "code",
   "execution_count": 6,
   "metadata": {
    "collapsed": true
   },
   "outputs": [],
   "source": [
    "def summary_info(post_sample, lim=5):\n",
    "\t#post_sample = solar_params\n",
    "\t#lim=5\n",
    "\t\"\"\"\n",
    "\tInput extracted STAN model sample: post_sample\n",
    "\tlim - confidence interval ie lim = 5 => 95 central posterior interval\n",
    "\t\"\"\"\n",
    "\n",
    "\tparams = []\n",
    "\tmeans = []\n",
    "\tmedians = []\n",
    "\tmodes = []\n",
    "\tlow_ci = []\n",
    "\thigh_ci = []\n",
    "\tfor i in post_sample:\n",
    "\t\tparam_sim = post_sample[i]\n",
    "\t\tif (param_sim.shape[0] == param_sim.size):\n",
    "\t\t\tparams.append(i)\n",
    "\t\t\tmeans.append(np.mean(param_sim))\n",
    "\t\t\tmedians.append(np.median(param_sim))\n",
    "\t\t\tn_samples = len(param_sim)\n",
    "\t\t\tn_tail = n_samples*(lim/100)/2\n",
    "\t\t\tparam_sim=np.sort(param_sim)\n",
    "\t\t\tlow_ci.append(param_sim[n_tail])\n",
    "\t\t\thigh_ci.append(param_sim[n_samples-n_tail])\n",
    "\t\telse:\n",
    "\t\t\tfor par_case in param_sim.T:\n",
    "\t\t\t\tparams.append(i)\n",
    "\t\t\t\tmeans.append(np.mean(par_case))\n",
    "\t\t\t\tmedians.append(np.median(par_case))\n",
    "\t\t\t\tmodes.append(np.mode(parcase))\n",
    "\t\t\t\tn_samples = len(par_case)\n",
    "\t\t\t\tn_tail = n_samples*(lim/100)/2\n",
    "\t\t\t\tpar_case=np.sort(par_case)\n",
    "\t\t\t\tlow_ci.append(par_case[n_tail])\n",
    "\t\t\t\thigh_ci.append(par_case[n_samples-n_tail])\n",
    "\toutput = {\"params\":params,\n",
    "\t\t\"means\" : means,\n",
    "\t\t\"medians\" : medians,\n",
    "\t\t\"low_ci\" : low_ci,\n",
    "\t\t\"high_ci\" : high_ci}\n",
    "\toutput = pd.DataFrame(output)\n",
    "\treturn(output)"
   ]
  },
  {
   "cell_type": "markdown",
   "metadata": {},
   "source": [
    "### Import Data"
   ]
  },
  {
   "cell_type": "code",
   "execution_count": 7,
   "metadata": {
    "collapsed": true
   },
   "outputs": [],
   "source": [
    "from google.datalab import Context\n",
    "import random, string"
   ]
  },
  {
   "cell_type": "code",
   "execution_count": 8,
   "metadata": {},
   "outputs": [
    {
     "name": "stdout",
     "output_type": "stream",
     "text": [
      "prod_csi.csv\n",
      "solar_extr_200518.pkl\n",
      "solar_extr_210518.pkl\n",
      "solar_extr_210518_2.pkl\n",
      "solar_extr_220518.pkl\n",
      "solar_extr_230518.pkl\n",
      "solar_extr_240518.pkl\n",
      "solar_extr_250518.pkl\n",
      "solar_extr_may18final.pkl\n",
      "solar_extr_may18final2.pkl\n",
      "solar_extr_may18final2_const.pkl\n"
     ]
    }
   ],
   "source": [
    "solar_bucket = storage.Bucket('solar_commodities')\n",
    "for obj in solar_bucket.objects():\n",
    "  if obj.key.find('/') < 0:\n",
    "    print(obj.key)"
   ]
  },
  {
   "cell_type": "code",
   "execution_count": 9,
   "metadata": {},
   "outputs": [
    {
     "name": "stdout",
     "output_type": "stream",
     "text": [
      "odict_keys(['mu_cm', 'mu_b0', 'sigma_b1_mu', 'sigma_b1_sigma', 'sigma_b0', 'sigma_b1', 'sigma', 'sigma_cm', 'b0', 'b1', 'cm', 'mu1_lease', 'mu1_m', 'mu1_s', 'beta1_cost', 'beta1_size', 'beta1_fy', 'beta1_tmo', 'mu_b1', 'y_hat', 'lp__'])\n"
     ]
    }
   ],
   "source": [
    "remote = solar_bucket.object(\"solar_extr_may18final2.pkl\").read_stream()\n",
    "solar_extr = pickle.load(BytesIO(remote))\n",
    "print(solar_extr.keys())"
   ]
  },
  {
   "cell_type": "markdown",
   "metadata": {},
   "source": [
    "## Convert to dataframe (and then to feather format?) to download"
   ]
  },
  {
   "cell_type": "code",
   "execution_count": null,
   "metadata": {},
   "outputs": [],
   "source": []
  },
  {
   "cell_type": "code",
   "execution_count": 10,
   "metadata": {
    "collapsed": true
   },
   "outputs": [],
   "source": [
    "solar_vars = list(solar_extr.keys())\n",
    "coef_keys = solar_vars[0:-2]\n"
   ]
  },
  {
   "cell_type": "code",
   "execution_count": 11,
   "metadata": {
    "collapsed": true
   },
   "outputs": [],
   "source": [
    "for par in coef_keys:\n",
    "  parDF = pd.DataFrame(solar_extr[par])\n",
    "  f = solar_bucket.object(\"posterior/\"+par + \".csv\")\n",
    "  f.write_stream(parDF.to_csv(), 'text/csv')\n"
   ]
  },
  {
   "cell_type": "markdown",
   "metadata": {},
   "source": [
    "## Analysis of data"
   ]
  },
  {
   "cell_type": "code",
   "execution_count": 12,
   "metadata": {},
   "outputs": [
    {
     "data": {
      "text/html": [
       "<div>\n",
       "<style scoped>\n",
       "    .dataframe tbody tr th:only-of-type {\n",
       "        vertical-align: middle;\n",
       "    }\n",
       "\n",
       "    .dataframe tbody tr th {\n",
       "        vertical-align: top;\n",
       "    }\n",
       "\n",
       "    .dataframe thead th {\n",
       "        text-align: right;\n",
       "    }\n",
       "</style>\n",
       "<table border=\"1\" class=\"dataframe\">\n",
       "  <thead>\n",
       "    <tr style=\"text-align: right;\">\n",
       "      <th></th>\n",
       "      <th>0</th>\n",
       "      <th>1</th>\n",
       "    </tr>\n",
       "  </thead>\n",
       "  <tbody>\n",
       "    <tr>\n",
       "      <th>0</th>\n",
       "      <td>-0.000861</td>\n",
       "      <td>0.004004</td>\n",
       "    </tr>\n",
       "    <tr>\n",
       "      <th>1</th>\n",
       "      <td>0.001540</td>\n",
       "      <td>0.003115</td>\n",
       "    </tr>\n",
       "    <tr>\n",
       "      <th>2</th>\n",
       "      <td>-0.000119</td>\n",
       "      <td>0.000799</td>\n",
       "    </tr>\n",
       "    <tr>\n",
       "      <th>3</th>\n",
       "      <td>0.001579</td>\n",
       "      <td>0.003088</td>\n",
       "    </tr>\n",
       "    <tr>\n",
       "      <th>4</th>\n",
       "      <td>0.001411</td>\n",
       "      <td>0.000699</td>\n",
       "    </tr>\n",
       "  </tbody>\n",
       "</table>\n",
       "</div>"
      ],
      "text/plain": [
       "          0         1\n",
       "0 -0.000861  0.004004\n",
       "1  0.001540  0.003115\n",
       "2 -0.000119  0.000799\n",
       "3  0.001579  0.003088\n",
       "4  0.001411  0.000699"
      ]
     },
     "execution_count": 12,
     "metadata": {},
     "output_type": "execute_result"
    }
   ],
   "source": [
    "mu_leaseDF = pd.DataFrame(solar_extr[\"mu1_lease\"])\n",
    "beta_costDF = pd.DataFrame(solar_extr[\"beta1_cost\"])\n",
    "\n",
    "\n",
    "beta_costDF.head()\n",
    "\n"
   ]
  },
  {
   "cell_type": "code",
   "execution_count": 13,
   "metadata": {},
   "outputs": [],
   "source": [
    "mu_leaseDF.columns = [\"mu_own\", \"mu_lease\"]\n",
    "beta_costDF.columns = [\"beta_cost_own\", \"beta_cost_lease\"]\n",
    "#meta_muDF = pd.DataFrame(solar_extr[\"meta_mu\"])\n",
    "#meta_muDF.columns = [\"meta_mu\"]\n",
    "#meta_mu_monDF = pd.DataFrame(solar_extr[\"meta_mu_mon\"])\n",
    "\n",
    "#county\n",
    "#mu1_cDF = pd.DataFrame(solar_extr[\"mu1_c\"])\n",
    "mu1_sDF = pd.DataFrame(solar_extr[\"mu1_s\"])"
   ]
  },
  {
   "cell_type": "code",
   "execution_count": 14,
   "metadata": {},
   "outputs": [
    {
     "name": "stderr",
     "output_type": "stream",
     "text": [
      "/usr/local/envs/py3env/lib/python3.5/site-packages/matplotlib/font_manager.py:1320: UserWarning: findfont: Font family ['sans-serif'] not found. Falling back to DejaVu Sans\n",
      "  (prop.get_family(), self.defaultFamily[fontext]))\n"
     ]
    },
    {
     "data": {
      "image/png": "[encoded data removed]",
      "text/plain": [
       "<matplotlib.figure.Figure at 0x7f547c0f4e48>"
      ]
     },
     "metadata": {},
     "output_type": "display_data"
    }
   ],
   "source": [
    "beta_costDF.hist()\n",
    "plt.show()"
   ]
  },
  {
   "cell_type": "code",
   "execution_count": 15,
   "metadata": {},
   "outputs": [
    {
     "data": {
      "text/html": [
       "<div>\n",
       "<style scoped>\n",
       "    .dataframe tbody tr th:only-of-type {\n",
       "        vertical-align: middle;\n",
       "    }\n",
       "\n",
       "    .dataframe tbody tr th {\n",
       "        vertical-align: top;\n",
       "    }\n",
       "\n",
       "    .dataframe thead th {\n",
       "        text-align: right;\n",
       "    }\n",
       "</style>\n",
       "<table border=\"1\" class=\"dataframe\">\n",
       "  <thead>\n",
       "    <tr style=\"text-align: right;\">\n",
       "      <th></th>\n",
       "      <th>beta_cost_own</th>\n",
       "      <th>beta_cost_lease</th>\n",
       "    </tr>\n",
       "  </thead>\n",
       "  <tbody>\n",
       "    <tr>\n",
       "      <th>0</th>\n",
       "      <td>-0.000861</td>\n",
       "      <td>0.004004</td>\n",
       "    </tr>\n",
       "    <tr>\n",
       "      <th>1</th>\n",
       "      <td>0.001540</td>\n",
       "      <td>0.003115</td>\n",
       "    </tr>\n",
       "    <tr>\n",
       "      <th>2</th>\n",
       "      <td>-0.000119</td>\n",
       "      <td>0.000799</td>\n",
       "    </tr>\n",
       "    <tr>\n",
       "      <th>3</th>\n",
       "      <td>0.001579</td>\n",
       "      <td>0.003088</td>\n",
       "    </tr>\n",
       "    <tr>\n",
       "      <th>4</th>\n",
       "      <td>0.001411</td>\n",
       "      <td>0.000699</td>\n",
       "    </tr>\n",
       "  </tbody>\n",
       "</table>\n",
       "</div>"
      ],
      "text/plain": [
       "   beta_cost_own  beta_cost_lease\n",
       "0      -0.000861         0.004004\n",
       "1       0.001540         0.003115\n",
       "2      -0.000119         0.000799\n",
       "3       0.001579         0.003088\n",
       "4       0.001411         0.000699"
      ]
     },
     "execution_count": 15,
     "metadata": {},
     "output_type": "execute_result"
    }
   ],
   "source": [
    "beta_costDF.head()"
   ]
  },
  {
   "cell_type": "code",
   "execution_count": 17,
   "metadata": {},
   "outputs": [
    {
     "name": "stdout",
     "output_type": "stream",
     "text": [
      "mu_pMore 0.9955\n",
      "beta contrast 0.851\n"
     ]
    }
   ],
   "source": [
    "mu_leaseDF[\"mu_diff\"] = mu_leaseDF[\"mu_lease\"]-mu_leaseDF[\"mu_own\"]\n",
    "beta_costDF[\"beta_diff\"] = beta_costDF[\"beta_cost_lease\"]-beta_costDF[\"beta_cost_own\"]\n",
    "\n",
    "beta_costDF.head()\n",
    "beta_pMore0 = beta_costDF.loc[beta_costDF.beta_diff>0, \"beta_diff\"].size/2000\n",
    "mu_pMore0 = mu_leaseDF.loc[mu_leaseDF.mu_diff>0, \"mu_diff\"].size/2000\n",
    "\n",
    "print(\"mu_pMore\", mu_pMore0)\n",
    "print(\"beta contrast\", beta_pMore0)"
   ]
  },
  {
   "cell_type": "code",
   "execution_count": 19,
   "metadata": {},
   "outputs": [
    {
     "name": "stderr",
     "output_type": "stream",
     "text": [
      "/usr/local/envs/py3env/lib/python3.5/site-packages/matplotlib/font_manager.py:1320: UserWarning: findfont: Font family ['sans-serif'] not found. Falling back to DejaVu Sans\n",
      "  (prop.get_family(), self.defaultFamily[fontext]))\n"
     ]
    },
    {
     "data": {
      "image/png": "[encoded data removed]",
      "text/plain": [
       "<matplotlib.figure.Figure at 0x7f53c1806438>"
      ]
     },
     "metadata": {},
     "output_type": "display_data"
    }
   ],
   "source": [
    "\n",
    "\n",
    "\n",
    "\n",
    "\n",
    "fig, ax = plt.subplots(2)\n",
    "mu_leaseDF[\"mu_diff\"].plot.density(ax=ax[0])\n",
    "beta_costDF[\"beta_diff\"].plot.density(ax=ax[1])\n",
    "ax[0].axvline(x=0, color=\"red\")\n",
    "ax[1].axvline(x=0, color=\"red\")\n",
    "fig.set_size_inches(9,9)\n",
    "#ax[0].set_xlim(-.005, .012)\n",
    "#ax[1].set_xlim(-.005, .012)\n",
    "ax[0].set_xlabel(r\"$\\mu^{lease,yes}- \\mu^{lease,no}$\")\n",
    "ax[1].set_xlabel(r\"$\\beta^{cost,l=yes}- \\beta^{cost,l=no}$\")\n",
    "ax[0].text(.005, 80, \"99.5%>0\")\n",
    "ax[1].text(.005, 159, \"85%>0\")\n",
    "plt.savefig(\"bayes_hypos.png\", dpi=100)\n",
    "plt.tight_layout()\n",
    "plt.show()"
   ]
  },
  {
   "cell_type": "code",
   "execution_count": 20,
   "metadata": {
    "collapsed": true
   },
   "outputs": [],
   "source": [
    "mu_sectDF = pd.DataFrame(solar_extr[\"mu1_s\"])"
   ]
  },
  {
   "cell_type": "code",
   "execution_count": 21,
   "metadata": {
    "collapsed": true
   },
   "outputs": [],
   "source": [
    "mu_sectDF.columns = [\"Commercial\", \"Residential\", \"Government\", \"Non-profit\"]"
   ]
  },
  {
   "cell_type": "code",
   "execution_count": 22,
   "metadata": {
    "collapsed": true
   },
   "outputs": [],
   "source": [
    "mu_sectDF[\"com-res\"] = mu_sectDF[\"Commercial\"]-mu_sectDF[\"Residential\"]"
   ]
  },
  {
   "cell_type": "code",
   "execution_count": 23,
   "metadata": {
    "collapsed": true
   },
   "outputs": [],
   "source": [
    "mu_sectDF[\"gov-res\"] = mu_sectDF[\"Government\"]-mu_sectDF[\"Residential\"]"
   ]
  },
  {
   "cell_type": "code",
   "execution_count": 24,
   "metadata": {
    "collapsed": true
   },
   "outputs": [],
   "source": [
    "mu_sectDF[\"npr-res\"] = mu_sectDF[\"Non-profit\"]-mu_sectDF[\"Residential\"]"
   ]
  },
  {
   "cell_type": "code",
   "execution_count": 30,
   "metadata": {},
   "outputs": [
    {
     "name": "stdout",
     "output_type": "stream",
     "text": [
      "0.6765 0.912 0.545\n"
     ]
    }
   ],
   "source": [
    "sect_com_pMore0 = mu_sectDF.loc[mu_sectDF[\"com-res\"]>0, \"com-res\"].size/2000\n",
    "sect_gov_pMore0 = mu_sectDF.loc[mu_sectDF[\"gov-res\"]>0, \"gov-res\"].size/2000\n",
    "sect_npr_pMore0 = mu_sectDF.loc[mu_sectDF[\"npr-res\"]>0, \"npr-res\"].size/2000\n",
    "\n",
    "\n",
    "\n",
    "print(sect_com_pMore0, sect_gov_pMore0, sect_npr_pMore0)\n"
   ]
  },
  {
   "cell_type": "code",
   "execution_count": 32,
   "metadata": {},
   "outputs": [
    {
     "name": "stderr",
     "output_type": "stream",
     "text": [
      "/usr/local/envs/py3env/lib/python3.5/site-packages/matplotlib/font_manager.py:1320: UserWarning: findfont: Font family ['sans-serif'] not found. Falling back to DejaVu Sans\n",
      "  (prop.get_family(), self.defaultFamily[fontext]))\n"
     ]
    },
    {
     "data": {
      "image/png": "[encoded data removed]",
      "text/plain": [
       "<matplotlib.figure.Figure at 0x7f53c18b8dd8>"
      ]
     },
     "metadata": {},
     "output_type": "display_data"
    }
   ],
   "source": [
    "fig, ax = plt.subplots(3)\n",
    "mu_sectDF[\"com-res\"].plot.density(ax=ax[0])\n",
    "mu_sectDF[\"gov-res\"].plot.density(ax=ax[1])\n",
    "mu_sectDF[\"npr-res\"].plot.density(ax=ax[2])\n",
    "for a in ax:\n",
    "    a.set_xlim(-.015, 0.020)\n",
    "    a.axvline(x=0, color=\"red\")\n",
    "ax[1].axvline(x=0, color=\"red\")\n",
    "ax[0].set_xlabel(\"$\\mu^{sect,com}-\\mu^{sect,res}$\")\n",
    "ax[1].set_xlabel(\"$\\mu^{sect,gov}-\\mu^{sect,res}$\")\n",
    "ax[2].set_xlabel(\"$\\mu^{sect,npr}-\\mu^{sect,res}$\")\n",
    "ax[0].text(.010, 80, \"68%>0\")\n",
    "ax[1].text(.010, 80, \"91%>0\")\n",
    "ax[2].text(.010, 50, \"54%>0\")\n",
    "plt.tight_layout()\n",
    "fig.savefig(\"mu_sectors.png\")\n",
    "plt.show()"
   ]
  },
  {
   "cell_type": "code",
   "execution_count": 33,
   "metadata": {
    "collapsed": true
   },
   "outputs": [],
   "source": [
    "metakeys = ['mu_b0', 'sigma_b0', 'sigma_cm', 'sigma', 'mu1_lease', 'mu1_s', 'beta1_cost', 'beta1_size', 'beta1_fy']"
   ]
  },
  {
   "cell_type": "code",
   "execution_count": 34,
   "metadata": {},
   "outputs": [
    {
     "data": {
      "text/plain": [
       "['mu_b0',\n",
       " 'sigma_b0',\n",
       " 'sigma_cm',\n",
       " 'sigma',\n",
       " 'mu1_lease',\n",
       " 'mu1_s',\n",
       " 'beta1_cost',\n",
       " 'beta1_size',\n",
       " 'beta1_fy']"
      ]
     },
     "execution_count": 34,
     "metadata": {},
     "output_type": "execute_result"
    }
   ],
   "source": [
    "metakeys"
   ]
  },
  {
   "cell_type": "code",
   "execution_count": 35,
   "metadata": {
    "collapsed": true
   },
   "outputs": [],
   "source": [
    "def addseries(mkey, extrObj):\n",
    "    paramDF = pd.DataFrame(extrObj[mkey])\n",
    "    cols = paramDF.shape[1]\n",
    "    collabels = [mkey+str(i) for i in range(cols)]\n",
    "    paramDF.columns = collabels\n",
    "    return(paramDF)\n",
    "    "
   ]
  },
  {
   "cell_type": "code",
   "execution_count": 36,
   "metadata": {},
   "outputs": [],
   "source": [
    "higher_paramsDF = addseries(metakeys.pop(), solar_extr)\n"
   ]
  },
  {
   "cell_type": "code",
   "execution_count": 37,
   "metadata": {},
   "outputs": [],
   "source": [
    "for mkey in metakeys:\n",
    "    higher_paramsDF = pd.concat([higher_paramsDF, addseries(mkey, solar_extr)], axis=1)"
   ]
  },
  {
   "cell_type": "code",
   "execution_count": 38,
   "metadata": {},
   "outputs": [
    {
     "data": {
      "text/html": [
       "<div>\n",
       "<style scoped>\n",
       "    .dataframe tbody tr th:only-of-type {\n",
       "        vertical-align: middle;\n",
       "    }\n",
       "\n",
       "    .dataframe tbody tr th {\n",
       "        vertical-align: top;\n",
       "    }\n",
       "\n",
       "    .dataframe thead th {\n",
       "        text-align: right;\n",
       "    }\n",
       "</style>\n",
       "<table border=\"1\" class=\"dataframe\">\n",
       "  <thead>\n",
       "    <tr style=\"text-align: right;\">\n",
       "      <th></th>\n",
       "      <th>beta1_fy0</th>\n",
       "      <th>mu_b00</th>\n",
       "      <th>sigma_b00</th>\n",
       "      <th>sigma_cm0</th>\n",
       "      <th>sigma0</th>\n",
       "      <th>mu1_lease0</th>\n",
       "      <th>mu1_lease1</th>\n",
       "      <th>mu1_s0</th>\n",
       "      <th>mu1_s1</th>\n",
       "      <th>mu1_s2</th>\n",
       "      <th>mu1_s3</th>\n",
       "      <th>beta1_cost0</th>\n",
       "      <th>beta1_cost1</th>\n",
       "      <th>beta1_size0</th>\n",
       "    </tr>\n",
       "  </thead>\n",
       "  <tbody>\n",
       "    <tr>\n",
       "      <th>0</th>\n",
       "      <td>-0.006083</td>\n",
       "      <td>0.016035</td>\n",
       "      <td>0.907877</td>\n",
       "      <td>0.317125</td>\n",
       "      <td>0.320980</td>\n",
       "      <td>0.324191</td>\n",
       "      <td>0.330837</td>\n",
       "      <td>-0.375568</td>\n",
       "      <td>-0.377509</td>\n",
       "      <td>-0.374464</td>\n",
       "      <td>-0.371555</td>\n",
       "      <td>-0.000861</td>\n",
       "      <td>0.004004</td>\n",
       "      <td>-0.022374</td>\n",
       "    </tr>\n",
       "    <tr>\n",
       "      <th>1</th>\n",
       "      <td>-0.008646</td>\n",
       "      <td>0.011030</td>\n",
       "      <td>0.911364</td>\n",
       "      <td>0.295220</td>\n",
       "      <td>0.321187</td>\n",
       "      <td>0.045166</td>\n",
       "      <td>0.045713</td>\n",
       "      <td>-0.105602</td>\n",
       "      <td>-0.108737</td>\n",
       "      <td>-0.104091</td>\n",
       "      <td>-0.109085</td>\n",
       "      <td>0.001540</td>\n",
       "      <td>0.003115</td>\n",
       "      <td>-0.017936</td>\n",
       "    </tr>\n",
       "    <tr>\n",
       "      <th>2</th>\n",
       "      <td>-0.006777</td>\n",
       "      <td>0.004793</td>\n",
       "      <td>0.891694</td>\n",
       "      <td>0.301565</td>\n",
       "      <td>0.320698</td>\n",
       "      <td>0.232300</td>\n",
       "      <td>0.239551</td>\n",
       "      <td>-0.274512</td>\n",
       "      <td>-0.274943</td>\n",
       "      <td>-0.270491</td>\n",
       "      <td>-0.270922</td>\n",
       "      <td>-0.000119</td>\n",
       "      <td>0.000799</td>\n",
       "      <td>-0.020122</td>\n",
       "    </tr>\n",
       "    <tr>\n",
       "      <th>3</th>\n",
       "      <td>-0.003779</td>\n",
       "      <td>0.010110</td>\n",
       "      <td>0.901980</td>\n",
       "      <td>0.286465</td>\n",
       "      <td>0.321602</td>\n",
       "      <td>-0.113180</td>\n",
       "      <td>-0.104015</td>\n",
       "      <td>0.047803</td>\n",
       "      <td>0.051059</td>\n",
       "      <td>0.051413</td>\n",
       "      <td>0.053995</td>\n",
       "      <td>0.001579</td>\n",
       "      <td>0.003088</td>\n",
       "      <td>-0.019924</td>\n",
       "    </tr>\n",
       "    <tr>\n",
       "      <th>4</th>\n",
       "      <td>-0.004175</td>\n",
       "      <td>-0.012664</td>\n",
       "      <td>0.878342</td>\n",
       "      <td>0.297755</td>\n",
       "      <td>0.321123</td>\n",
       "      <td>-0.144531</td>\n",
       "      <td>-0.138834</td>\n",
       "      <td>0.089787</td>\n",
       "      <td>0.087677</td>\n",
       "      <td>0.092623</td>\n",
       "      <td>0.090741</td>\n",
       "      <td>0.001411</td>\n",
       "      <td>0.000699</td>\n",
       "      <td>-0.021238</td>\n",
       "    </tr>\n",
       "  </tbody>\n",
       "</table>\n",
       "</div>"
      ],
      "text/plain": [
       "   beta1_fy0    mu_b00  sigma_b00  sigma_cm0    sigma0  mu1_lease0  \\\n",
       "0  -0.006083  0.016035   0.907877   0.317125  0.320980    0.324191   \n",
       "1  -0.008646  0.011030   0.911364   0.295220  0.321187    0.045166   \n",
       "2  -0.006777  0.004793   0.891694   0.301565  0.320698    0.232300   \n",
       "3  -0.003779  0.010110   0.901980   0.286465  0.321602   -0.113180   \n",
       "4  -0.004175 -0.012664   0.878342   0.297755  0.321123   -0.144531   \n",
       "\n",
       "   mu1_lease1    mu1_s0    mu1_s1    mu1_s2    mu1_s3  beta1_cost0  \\\n",
       "0    0.330837 -0.375568 -0.377509 -0.374464 -0.371555    -0.000861   \n",
       "1    0.045713 -0.105602 -0.108737 -0.104091 -0.109085     0.001540   \n",
       "2    0.239551 -0.274512 -0.274943 -0.270491 -0.270922    -0.000119   \n",
       "3   -0.104015  0.047803  0.051059  0.051413  0.053995     0.001579   \n",
       "4   -0.138834  0.089787  0.087677  0.092623  0.090741     0.001411   \n",
       "\n",
       "   beta1_cost1  beta1_size0  \n",
       "0     0.004004    -0.022374  \n",
       "1     0.003115    -0.017936  \n",
       "2     0.000799    -0.020122  \n",
       "3     0.003088    -0.019924  \n",
       "4     0.000699    -0.021238  "
      ]
     },
     "execution_count": 38,
     "metadata": {},
     "output_type": "execute_result"
    }
   ],
   "source": [
    "higher_paramsDF.head()"
   ]
  },
  {
   "cell_type": "code",
   "execution_count": null,
   "metadata": {
    "collapsed": true
   },
   "outputs": [],
   "source": []
  },
  {
   "cell_type": "code",
   "execution_count": 39,
   "metadata": {},
   "outputs": [],
   "source": [
    "#Get median, mode and 95 percentiles \n",
    "higher_params_summary = higher_paramsDF.describe(percentiles=[.025, .25, .5,.75,.975])"
   ]
  },
  {
   "cell_type": "code",
   "execution_count": 40,
   "metadata": {},
   "outputs": [],
   "source": [
    "higher_params_summary = higher_params_summary.drop(\"count\", axis=0)\n"
   ]
  },
  {
   "cell_type": "code",
   "execution_count": 41,
   "metadata": {},
   "outputs": [
    {
     "data": {
      "text/html": [
       "<div>\n",
       "<style scoped>\n",
       "    .dataframe tbody tr th:only-of-type {\n",
       "        vertical-align: middle;\n",
       "    }\n",
       "\n",
       "    .dataframe tbody tr th {\n",
       "        vertical-align: top;\n",
       "    }\n",
       "\n",
       "    .dataframe thead th {\n",
       "        text-align: right;\n",
       "    }\n",
       "</style>\n",
       "<table border=\"1\" class=\"dataframe\">\n",
       "  <thead>\n",
       "    <tr style=\"text-align: right;\">\n",
       "      <th></th>\n",
       "      <th>beta1_fy0</th>\n",
       "      <th>mu_b00</th>\n",
       "      <th>sigma_b00</th>\n",
       "      <th>sigma_cm0</th>\n",
       "      <th>sigma0</th>\n",
       "      <th>mu1_lease0</th>\n",
       "      <th>mu1_lease1</th>\n",
       "      <th>mu1_s0</th>\n",
       "      <th>mu1_s1</th>\n",
       "      <th>mu1_s2</th>\n",
       "      <th>mu1_s3</th>\n",
       "      <th>beta1_cost0</th>\n",
       "      <th>beta1_cost1</th>\n",
       "      <th>beta1_size0</th>\n",
       "    </tr>\n",
       "  </thead>\n",
       "  <tbody>\n",
       "    <tr>\n",
       "      <th>mean</th>\n",
       "      <td>-0.006113</td>\n",
       "      <td>0.006795</td>\n",
       "      <td>0.907247</td>\n",
       "      <td>0.298651</td>\n",
       "      <td>0.320861</td>\n",
       "      <td>-0.005305</td>\n",
       "      <td>0.001353</td>\n",
       "      <td>-0.048006</td>\n",
       "      <td>-0.049381</td>\n",
       "      <td>-0.044602</td>\n",
       "      <td>-0.048804</td>\n",
       "      <td>-0.000615</td>\n",
       "      <td>0.001334</td>\n",
       "      <td>-0.020631</td>\n",
       "    </tr>\n",
       "    <tr>\n",
       "      <th>std</th>\n",
       "      <td>0.001624</td>\n",
       "      <td>0.052172</td>\n",
       "      <td>0.012341</td>\n",
       "      <td>0.009154</td>\n",
       "      <td>0.000547</td>\n",
       "      <td>0.369819</td>\n",
       "      <td>0.370119</td>\n",
       "      <td>0.348190</td>\n",
       "      <td>0.348186</td>\n",
       "      <td>0.347996</td>\n",
       "      <td>0.347978</td>\n",
       "      <td>0.001456</td>\n",
       "      <td>0.001526</td>\n",
       "      <td>0.001471</td>\n",
       "    </tr>\n",
       "    <tr>\n",
       "      <th>min</th>\n",
       "      <td>-0.012744</td>\n",
       "      <td>-0.116281</td>\n",
       "      <td>0.872433</td>\n",
       "      <td>0.267888</td>\n",
       "      <td>0.319109</td>\n",
       "      <td>-1.007681</td>\n",
       "      <td>-1.000460</td>\n",
       "      <td>-0.995059</td>\n",
       "      <td>-0.997923</td>\n",
       "      <td>-0.989769</td>\n",
       "      <td>-0.998837</td>\n",
       "      <td>-0.004504</td>\n",
       "      <td>-0.004521</td>\n",
       "      <td>-0.025216</td>\n",
       "    </tr>\n",
       "    <tr>\n",
       "      <th>2.5%</th>\n",
       "      <td>-0.009577</td>\n",
       "      <td>-0.093873</td>\n",
       "      <td>0.884746</td>\n",
       "      <td>0.280158</td>\n",
       "      <td>0.319743</td>\n",
       "      <td>-0.823945</td>\n",
       "      <td>-0.814241</td>\n",
       "      <td>-0.752490</td>\n",
       "      <td>-0.753353</td>\n",
       "      <td>-0.748334</td>\n",
       "      <td>-0.756037</td>\n",
       "      <td>-0.003272</td>\n",
       "      <td>-0.002069</td>\n",
       "      <td>-0.023557</td>\n",
       "    </tr>\n",
       "    <tr>\n",
       "      <th>25%</th>\n",
       "      <td>-0.007079</td>\n",
       "      <td>-0.025918</td>\n",
       "      <td>0.898731</td>\n",
       "      <td>0.292515</td>\n",
       "      <td>0.320494</td>\n",
       "      <td>-0.238904</td>\n",
       "      <td>-0.232262</td>\n",
       "      <td>-0.300051</td>\n",
       "      <td>-0.301989</td>\n",
       "      <td>-0.297942</td>\n",
       "      <td>-0.300189</td>\n",
       "      <td>-0.001645</td>\n",
       "      <td>0.000404</td>\n",
       "      <td>-0.021640</td>\n",
       "    </tr>\n",
       "    <tr>\n",
       "      <th>50%</th>\n",
       "      <td>-0.006021</td>\n",
       "      <td>0.012365</td>\n",
       "      <td>0.906553</td>\n",
       "      <td>0.298461</td>\n",
       "      <td>0.320862</td>\n",
       "      <td>-0.028099</td>\n",
       "      <td>-0.021532</td>\n",
       "      <td>-0.025679</td>\n",
       "      <td>-0.026952</td>\n",
       "      <td>-0.024202</td>\n",
       "      <td>-0.025352</td>\n",
       "      <td>-0.000621</td>\n",
       "      <td>0.001425</td>\n",
       "      <td>-0.020562</td>\n",
       "    </tr>\n",
       "    <tr>\n",
       "      <th>75%</th>\n",
       "      <td>-0.005083</td>\n",
       "      <td>0.039510</td>\n",
       "      <td>0.914701</td>\n",
       "      <td>0.305243</td>\n",
       "      <td>0.321241</td>\n",
       "      <td>0.271348</td>\n",
       "      <td>0.278445</td>\n",
       "      <td>0.163265</td>\n",
       "      <td>0.162265</td>\n",
       "      <td>0.167658</td>\n",
       "      <td>0.163075</td>\n",
       "      <td>0.000375</td>\n",
       "      <td>0.002353</td>\n",
       "      <td>-0.019569</td>\n",
       "    </tr>\n",
       "    <tr>\n",
       "      <th>97.5%</th>\n",
       "      <td>-0.003086</td>\n",
       "      <td>0.094593</td>\n",
       "      <td>0.933786</td>\n",
       "      <td>0.315442</td>\n",
       "      <td>0.321879</td>\n",
       "      <td>0.704607</td>\n",
       "      <td>0.715733</td>\n",
       "      <td>0.707215</td>\n",
       "      <td>0.708493</td>\n",
       "      <td>0.716283</td>\n",
       "      <td>0.705651</td>\n",
       "      <td>0.002217</td>\n",
       "      <td>0.004041</td>\n",
       "      <td>-0.017944</td>\n",
       "    </tr>\n",
       "    <tr>\n",
       "      <th>max</th>\n",
       "      <td>-0.001209</td>\n",
       "      <td>0.124059</td>\n",
       "      <td>0.952121</td>\n",
       "      <td>0.330754</td>\n",
       "      <td>0.323143</td>\n",
       "      <td>0.936407</td>\n",
       "      <td>0.942810</td>\n",
       "      <td>0.887174</td>\n",
       "      <td>0.885302</td>\n",
       "      <td>0.888696</td>\n",
       "      <td>0.893197</td>\n",
       "      <td>0.004235</td>\n",
       "      <td>0.006093</td>\n",
       "      <td>-0.016370</td>\n",
       "    </tr>\n",
       "  </tbody>\n",
       "</table>\n",
       "</div>"
      ],
      "text/plain": [
       "       beta1_fy0    mu_b00  sigma_b00  sigma_cm0    sigma0  mu1_lease0  \\\n",
       "mean   -0.006113  0.006795   0.907247   0.298651  0.320861   -0.005305   \n",
       "std     0.001624  0.052172   0.012341   0.009154  0.000547    0.369819   \n",
       "min    -0.012744 -0.116281   0.872433   0.267888  0.319109   -1.007681   \n",
       "2.5%   -0.009577 -0.093873   0.884746   0.280158  0.319743   -0.823945   \n",
       "25%    -0.007079 -0.025918   0.898731   0.292515  0.320494   -0.238904   \n",
       "50%    -0.006021  0.012365   0.906553   0.298461  0.320862   -0.028099   \n",
       "75%    -0.005083  0.039510   0.914701   0.305243  0.321241    0.271348   \n",
       "97.5%  -0.003086  0.094593   0.933786   0.315442  0.321879    0.704607   \n",
       "max    -0.001209  0.124059   0.952121   0.330754  0.323143    0.936407   \n",
       "\n",
       "       mu1_lease1    mu1_s0    mu1_s1    mu1_s2    mu1_s3  beta1_cost0  \\\n",
       "mean     0.001353 -0.048006 -0.049381 -0.044602 -0.048804    -0.000615   \n",
       "std      0.370119  0.348190  0.348186  0.347996  0.347978     0.001456   \n",
       "min     -1.000460 -0.995059 -0.997923 -0.989769 -0.998837    -0.004504   \n",
       "2.5%    -0.814241 -0.752490 -0.753353 -0.748334 -0.756037    -0.003272   \n",
       "25%     -0.232262 -0.300051 -0.301989 -0.297942 -0.300189    -0.001645   \n",
       "50%     -0.021532 -0.025679 -0.026952 -0.024202 -0.025352    -0.000621   \n",
       "75%      0.278445  0.163265  0.162265  0.167658  0.163075     0.000375   \n",
       "97.5%    0.715733  0.707215  0.708493  0.716283  0.705651     0.002217   \n",
       "max      0.942810  0.887174  0.885302  0.888696  0.893197     0.004235   \n",
       "\n",
       "       beta1_cost1  beta1_size0  \n",
       "mean      0.001334    -0.020631  \n",
       "std       0.001526     0.001471  \n",
       "min      -0.004521    -0.025216  \n",
       "2.5%     -0.002069    -0.023557  \n",
       "25%       0.000404    -0.021640  \n",
       "50%       0.001425    -0.020562  \n",
       "75%       0.002353    -0.019569  \n",
       "97.5%     0.004041    -0.017944  \n",
       "max       0.006093    -0.016370  "
      ]
     },
     "execution_count": 41,
     "metadata": {},
     "output_type": "execute_result"
    }
   ],
   "source": [
    "higher_params_summary"
   ]
  },
  {
   "cell_type": "code",
   "execution_count": 42,
   "metadata": {},
   "outputs": [],
   "source": [
    "higher_params_summary.transpose().to_latex(buf=\"higher_params_summary_table.tex\", float_format=\"%.3f'\")"
   ]
  },
  {
   "cell_type": "markdown",
   "metadata": {},
   "source": [
    "### Manufacturer"
   ]
  },
  {
   "cell_type": "code",
   "execution_count": 44,
   "metadata": {
    "collapsed": true
   },
   "outputs": [],
   "source": [
    "mu_mDF = addseries(\"mu1_m\", solar_extr)\n",
    "mu_mDF_summ = mu_mDF.describe(percentiles=[.025,.975])\n",
    "mu_mDF_summ = mu_mDF_summ.transpose()\n"
   ]
  },
  {
   "cell_type": "code",
   "execution_count": 51,
   "metadata": {},
   "outputs": [
    {
     "name": "stderr",
     "output_type": "stream",
     "text": [
      "/usr/local/envs/py3env/lib/python3.5/site-packages/matplotlib/font_manager.py:1320: UserWarning: findfont: Font family ['sans-serif'] not found. Falling back to DejaVu Sans\n",
      "  (prop.get_family(), self.defaultFamily[fontext]))\n"
     ]
    },
    {
     "data": {
      "image/png": "[encoded data removed]",
      "text/plain": [
       "<matplotlib.figure.Figure at 0x7f53c00d1240>"
      ]
     },
     "metadata": {},
     "output_type": "display_data"
    }
   ],
   "source": [
    "mu_mDF_summ = mu_mDF_summ.sort_values(\"50%\")\n",
    "mu_mDF_summ[\"ord\"]=[i for i in range(mu_mDF_summ.shape[0])]\n",
    "fig, ax = plt.subplots()\n",
    "#ax.fill_between(mu_mDF_summ[\"ord\"], mu_mDF_summ[\"2.5%\"], mu_mDF_summ[\"97.5%\"])\n",
    "ax.vlines(mu_mDF_summ[\"ord\"], mu_mDF_summ[\"2.5%\"], mu_mDF_summ[\"97.5%\"])\n",
    "ax.xaxis.set_ticklabels([])\n",
    "ax.set_ylabel(\"95% interval, $\\mu^{manuf}$\")\n",
    "ax.set_ylim(-.5,.5)\n",
    "fig.savefig(\"BayManPlot\", dpi=300)\n",
    "plt.show()\n"
   ]
  },
  {
   "cell_type": "markdown",
   "metadata": {},
   "source": [
    "### County"
   ]
  },
  {
   "cell_type": "code",
   "execution_count": 45,
   "metadata": {},
   "outputs": [],
   "source": [
    "#mu_cDF = addseries(\"mu1_c\", solar_extr)\n"
   ]
  },
  {
   "cell_type": "code",
   "execution_count": null,
   "metadata": {},
   "outputs": [],
   "source": []
  },
  {
   "cell_type": "code",
   "execution_count": null,
   "metadata": {},
   "outputs": [],
   "source": []
  },
  {
   "cell_type": "markdown",
   "metadata": {},
   "source": [
    "### alpha and beta"
   ]
  },
  {
   "cell_type": "code",
   "execution_count": 60,
   "metadata": {
    "collapsed": true
   },
   "outputs": [],
   "source": [
    "b0DF = addseries(\"b0\", solar_extr)\n",
    "b1DF = addseries(\"b1\", solar_extr)"
   ]
  },
  {
   "cell_type": "code",
   "execution_count": 61,
   "metadata": {},
   "outputs": [
    {
     "data": {
      "text/html": [
       "<div>\n",
       "<style scoped>\n",
       "    .dataframe tbody tr th:only-of-type {\n",
       "        vertical-align: middle;\n",
       "    }\n",
       "\n",
       "    .dataframe tbody tr th {\n",
       "        vertical-align: top;\n",
       "    }\n",
       "\n",
       "    .dataframe thead th {\n",
       "        text-align: right;\n",
       "    }\n",
       "</style>\n",
       "<table border=\"1\" class=\"dataframe\">\n",
       "  <thead>\n",
       "    <tr style=\"text-align: right;\">\n",
       "      <th></th>\n",
       "      <th>b00</th>\n",
       "      <th>b01</th>\n",
       "      <th>b02</th>\n",
       "      <th>b03</th>\n",
       "      <th>b04</th>\n",
       "      <th>b05</th>\n",
       "      <th>b06</th>\n",
       "      <th>b07</th>\n",
       "      <th>b08</th>\n",
       "      <th>b09</th>\n",
       "      <th>b010</th>\n",
       "      <th>b011</th>\n",
       "      <th>b012</th>\n",
       "      <th>b013</th>\n",
       "      <th>b014</th>\n",
       "      <th>b015</th>\n",
       "      <th>b016</th>\n",
       "      <th>b017</th>\n",
       "      <th>b018</th>\n",
       "      <th>b019</th>\n",
       "      <th>b020</th>\n",
       "      <th>b021</th>\n",
       "      <th>b022</th>\n",
       "      <th>b023</th>\n",
       "      <th>b024</th>\n",
       "      <th>...</th>\n",
       "      <th>b03120</th>\n",
       "      <th>b03121</th>\n",
       "      <th>b03122</th>\n",
       "      <th>b03123</th>\n",
       "      <th>b03124</th>\n",
       "      <th>b03125</th>\n",
       "      <th>b03126</th>\n",
       "      <th>b03127</th>\n",
       "      <th>b03128</th>\n",
       "      <th>b03129</th>\n",
       "      <th>b03130</th>\n",
       "      <th>b03131</th>\n",
       "      <th>b03132</th>\n",
       "      <th>b03133</th>\n",
       "      <th>b03134</th>\n",
       "      <th>b03135</th>\n",
       "      <th>b03136</th>\n",
       "      <th>b03137</th>\n",
       "      <th>b03138</th>\n",
       "      <th>b03139</th>\n",
       "      <th>b03140</th>\n",
       "      <th>b03141</th>\n",
       "      <th>b03142</th>\n",
       "      <th>b03143</th>\n",
       "      <th>b03144</th>\n",
       "    </tr>\n",
       "  </thead>\n",
       "  <tbody>\n",
       "    <tr>\n",
       "      <th>0</th>\n",
       "      <td>0.031476</td>\n",
       "      <td>-0.442145</td>\n",
       "      <td>0.353034</td>\n",
       "      <td>-0.054672</td>\n",
       "      <td>0.441393</td>\n",
       "      <td>0.572938</td>\n",
       "      <td>-0.439611</td>\n",
       "      <td>-0.419307</td>\n",
       "      <td>-0.391607</td>\n",
       "      <td>-0.372063</td>\n",
       "      <td>-0.132671</td>\n",
       "      <td>0.451746</td>\n",
       "      <td>0.110154</td>\n",
       "      <td>0.123774</td>\n",
       "      <td>-0.535549</td>\n",
       "      <td>2.033656</td>\n",
       "      <td>-0.409466</td>\n",
       "      <td>-0.422616</td>\n",
       "      <td>-0.468701</td>\n",
       "      <td>-0.471499</td>\n",
       "      <td>-0.531125</td>\n",
       "      <td>-0.527623</td>\n",
       "      <td>2.536641</td>\n",
       "      <td>0.361971</td>\n",
       "      <td>-0.273490</td>\n",
       "      <td>...</td>\n",
       "      <td>-0.364441</td>\n",
       "      <td>-0.418309</td>\n",
       "      <td>-0.686271</td>\n",
       "      <td>-0.317572</td>\n",
       "      <td>0.150341</td>\n",
       "      <td>-0.459128</td>\n",
       "      <td>-0.092368</td>\n",
       "      <td>2.002264</td>\n",
       "      <td>0.679291</td>\n",
       "      <td>-0.321894</td>\n",
       "      <td>-0.301262</td>\n",
       "      <td>-0.304096</td>\n",
       "      <td>-0.503515</td>\n",
       "      <td>0.038584</td>\n",
       "      <td>-0.321661</td>\n",
       "      <td>-0.025176</td>\n",
       "      <td>-0.146435</td>\n",
       "      <td>0.630609</td>\n",
       "      <td>1.636322</td>\n",
       "      <td>-0.733655</td>\n",
       "      <td>1.667687</td>\n",
       "      <td>-0.415409</td>\n",
       "      <td>-0.434346</td>\n",
       "      <td>2.419059</td>\n",
       "      <td>-0.495288</td>\n",
       "    </tr>\n",
       "    <tr>\n",
       "      <th>1</th>\n",
       "      <td>0.065165</td>\n",
       "      <td>-0.518448</td>\n",
       "      <td>0.273319</td>\n",
       "      <td>-0.022670</td>\n",
       "      <td>0.477032</td>\n",
       "      <td>0.545951</td>\n",
       "      <td>-0.391126</td>\n",
       "      <td>-0.382210</td>\n",
       "      <td>-0.316960</td>\n",
       "      <td>-0.267362</td>\n",
       "      <td>-0.159753</td>\n",
       "      <td>0.425951</td>\n",
       "      <td>0.181096</td>\n",
       "      <td>0.186760</td>\n",
       "      <td>-0.445221</td>\n",
       "      <td>2.047913</td>\n",
       "      <td>-0.418088</td>\n",
       "      <td>-0.277287</td>\n",
       "      <td>-0.525038</td>\n",
       "      <td>-0.472982</td>\n",
       "      <td>-0.516027</td>\n",
       "      <td>-0.484163</td>\n",
       "      <td>2.534446</td>\n",
       "      <td>0.415498</td>\n",
       "      <td>-0.192169</td>\n",
       "      <td>...</td>\n",
       "      <td>-0.337134</td>\n",
       "      <td>-0.355829</td>\n",
       "      <td>-0.592775</td>\n",
       "      <td>-0.273326</td>\n",
       "      <td>0.294199</td>\n",
       "      <td>-0.410804</td>\n",
       "      <td>-0.176393</td>\n",
       "      <td>2.012955</td>\n",
       "      <td>0.786568</td>\n",
       "      <td>-0.287586</td>\n",
       "      <td>-0.410295</td>\n",
       "      <td>-0.339888</td>\n",
       "      <td>-0.512914</td>\n",
       "      <td>0.175233</td>\n",
       "      <td>-0.447364</td>\n",
       "      <td>-0.089596</td>\n",
       "      <td>-0.224547</td>\n",
       "      <td>0.574407</td>\n",
       "      <td>1.645543</td>\n",
       "      <td>-0.666496</td>\n",
       "      <td>1.693427</td>\n",
       "      <td>-0.480319</td>\n",
       "      <td>-0.499966</td>\n",
       "      <td>2.341641</td>\n",
       "      <td>-0.386243</td>\n",
       "    </tr>\n",
       "    <tr>\n",
       "      <th>2</th>\n",
       "      <td>-0.049008</td>\n",
       "      <td>-0.439214</td>\n",
       "      <td>0.223918</td>\n",
       "      <td>-0.026552</td>\n",
       "      <td>0.459853</td>\n",
       "      <td>0.571590</td>\n",
       "      <td>-0.434239</td>\n",
       "      <td>-0.443661</td>\n",
       "      <td>-0.333704</td>\n",
       "      <td>-0.321400</td>\n",
       "      <td>-0.093283</td>\n",
       "      <td>0.353252</td>\n",
       "      <td>0.115480</td>\n",
       "      <td>0.121159</td>\n",
       "      <td>-0.444422</td>\n",
       "      <td>1.983479</td>\n",
       "      <td>-0.406035</td>\n",
       "      <td>-0.315739</td>\n",
       "      <td>-0.440234</td>\n",
       "      <td>-0.465014</td>\n",
       "      <td>-0.509937</td>\n",
       "      <td>-0.534256</td>\n",
       "      <td>2.505296</td>\n",
       "      <td>0.487426</td>\n",
       "      <td>-0.233971</td>\n",
       "      <td>...</td>\n",
       "      <td>-0.420029</td>\n",
       "      <td>-0.445502</td>\n",
       "      <td>-0.576538</td>\n",
       "      <td>-0.337179</td>\n",
       "      <td>0.213093</td>\n",
       "      <td>-0.492303</td>\n",
       "      <td>-0.204030</td>\n",
       "      <td>2.000700</td>\n",
       "      <td>0.832172</td>\n",
       "      <td>-0.278820</td>\n",
       "      <td>-0.328549</td>\n",
       "      <td>-0.350300</td>\n",
       "      <td>-0.565399</td>\n",
       "      <td>0.165861</td>\n",
       "      <td>-0.314854</td>\n",
       "      <td>-0.005271</td>\n",
       "      <td>-0.173538</td>\n",
       "      <td>0.584507</td>\n",
       "      <td>1.573893</td>\n",
       "      <td>-0.673235</td>\n",
       "      <td>1.534803</td>\n",
       "      <td>-0.344220</td>\n",
       "      <td>-0.516543</td>\n",
       "      <td>2.288572</td>\n",
       "      <td>-0.386315</td>\n",
       "    </tr>\n",
       "    <tr>\n",
       "      <th>3</th>\n",
       "      <td>0.012807</td>\n",
       "      <td>-0.503606</td>\n",
       "      <td>0.382608</td>\n",
       "      <td>-0.118833</td>\n",
       "      <td>0.523943</td>\n",
       "      <td>0.555209</td>\n",
       "      <td>-0.344283</td>\n",
       "      <td>-0.368608</td>\n",
       "      <td>-0.366746</td>\n",
       "      <td>-0.316790</td>\n",
       "      <td>-0.121817</td>\n",
       "      <td>0.401848</td>\n",
       "      <td>0.126882</td>\n",
       "      <td>0.190853</td>\n",
       "      <td>-0.554655</td>\n",
       "      <td>2.005373</td>\n",
       "      <td>-0.460512</td>\n",
       "      <td>-0.350307</td>\n",
       "      <td>-0.486793</td>\n",
       "      <td>-0.507542</td>\n",
       "      <td>-0.564989</td>\n",
       "      <td>-0.528030</td>\n",
       "      <td>2.429400</td>\n",
       "      <td>0.417787</td>\n",
       "      <td>-0.240224</td>\n",
       "      <td>...</td>\n",
       "      <td>-0.322441</td>\n",
       "      <td>-0.379351</td>\n",
       "      <td>-0.706133</td>\n",
       "      <td>-0.259978</td>\n",
       "      <td>0.259995</td>\n",
       "      <td>-0.434761</td>\n",
       "      <td>-0.149000</td>\n",
       "      <td>2.143185</td>\n",
       "      <td>0.728325</td>\n",
       "      <td>-0.341679</td>\n",
       "      <td>-0.321065</td>\n",
       "      <td>-0.270224</td>\n",
       "      <td>-0.509597</td>\n",
       "      <td>0.154446</td>\n",
       "      <td>-0.332890</td>\n",
       "      <td>-0.049498</td>\n",
       "      <td>-0.250400</td>\n",
       "      <td>0.523150</td>\n",
       "      <td>1.724064</td>\n",
       "      <td>-0.703046</td>\n",
       "      <td>1.671968</td>\n",
       "      <td>-0.409381</td>\n",
       "      <td>-0.521109</td>\n",
       "      <td>2.454575</td>\n",
       "      <td>-0.454832</td>\n",
       "    </tr>\n",
       "    <tr>\n",
       "      <th>4</th>\n",
       "      <td>0.046215</td>\n",
       "      <td>-0.492403</td>\n",
       "      <td>0.274185</td>\n",
       "      <td>-0.139424</td>\n",
       "      <td>0.454539</td>\n",
       "      <td>0.544045</td>\n",
       "      <td>-0.423756</td>\n",
       "      <td>-0.379420</td>\n",
       "      <td>-0.379029</td>\n",
       "      <td>-0.396954</td>\n",
       "      <td>-0.096006</td>\n",
       "      <td>0.343987</td>\n",
       "      <td>0.131914</td>\n",
       "      <td>0.116365</td>\n",
       "      <td>-0.523972</td>\n",
       "      <td>2.059414</td>\n",
       "      <td>-0.503996</td>\n",
       "      <td>-0.412462</td>\n",
       "      <td>-0.449308</td>\n",
       "      <td>-0.588319</td>\n",
       "      <td>-0.479776</td>\n",
       "      <td>-0.490024</td>\n",
       "      <td>2.570299</td>\n",
       "      <td>0.402626</td>\n",
       "      <td>-0.197864</td>\n",
       "      <td>...</td>\n",
       "      <td>-0.289411</td>\n",
       "      <td>-0.389372</td>\n",
       "      <td>-0.519841</td>\n",
       "      <td>-0.275477</td>\n",
       "      <td>0.240950</td>\n",
       "      <td>-0.478851</td>\n",
       "      <td>-0.150973</td>\n",
       "      <td>2.016063</td>\n",
       "      <td>0.728165</td>\n",
       "      <td>-0.392017</td>\n",
       "      <td>-0.422188</td>\n",
       "      <td>-0.326043</td>\n",
       "      <td>-0.577843</td>\n",
       "      <td>0.036608</td>\n",
       "      <td>-0.248267</td>\n",
       "      <td>-0.015795</td>\n",
       "      <td>-0.175306</td>\n",
       "      <td>0.518701</td>\n",
       "      <td>1.635530</td>\n",
       "      <td>-0.557728</td>\n",
       "      <td>1.674649</td>\n",
       "      <td>-0.531472</td>\n",
       "      <td>-0.523125</td>\n",
       "      <td>2.299219</td>\n",
       "      <td>-0.426753</td>\n",
       "    </tr>\n",
       "  </tbody>\n",
       "</table>\n",
       "<p>5 rows × 3145 columns</p>\n",
       "</div>"
      ],
      "text/plain": [
       "        b00       b01       b02       b03       b04       b05       b06  \\\n",
       "0  0.031476 -0.442145  0.353034 -0.054672  0.441393  0.572938 -0.439611   \n",
       "1  0.065165 -0.518448  0.273319 -0.022670  0.477032  0.545951 -0.391126   \n",
       "2 -0.049008 -0.439214  0.223918 -0.026552  0.459853  0.571590 -0.434239   \n",
       "3  0.012807 -0.503606  0.382608 -0.118833  0.523943  0.555209 -0.344283   \n",
       "4  0.046215 -0.492403  0.274185 -0.139424  0.454539  0.544045 -0.423756   \n",
       "\n",
       "        b07       b08       b09      b010      b011      b012      b013  \\\n",
       "0 -0.419307 -0.391607 -0.372063 -0.132671  0.451746  0.110154  0.123774   \n",
       "1 -0.382210 -0.316960 -0.267362 -0.159753  0.425951  0.181096  0.186760   \n",
       "2 -0.443661 -0.333704 -0.321400 -0.093283  0.353252  0.115480  0.121159   \n",
       "3 -0.368608 -0.366746 -0.316790 -0.121817  0.401848  0.126882  0.190853   \n",
       "4 -0.379420 -0.379029 -0.396954 -0.096006  0.343987  0.131914  0.116365   \n",
       "\n",
       "       b014      b015      b016      b017      b018      b019      b020  \\\n",
       "0 -0.535549  2.033656 -0.409466 -0.422616 -0.468701 -0.471499 -0.531125   \n",
       "1 -0.445221  2.047913 -0.418088 -0.277287 -0.525038 -0.472982 -0.516027   \n",
       "2 -0.444422  1.983479 -0.406035 -0.315739 -0.440234 -0.465014 -0.509937   \n",
       "3 -0.554655  2.005373 -0.460512 -0.350307 -0.486793 -0.507542 -0.564989   \n",
       "4 -0.523972  2.059414 -0.503996 -0.412462 -0.449308 -0.588319 -0.479776   \n",
       "\n",
       "       b021      b022      b023      b024    ...       b03120    b03121  \\\n",
       "0 -0.527623  2.536641  0.361971 -0.273490    ...    -0.364441 -0.418309   \n",
       "1 -0.484163  2.534446  0.415498 -0.192169    ...    -0.337134 -0.355829   \n",
       "2 -0.534256  2.505296  0.487426 -0.233971    ...    -0.420029 -0.445502   \n",
       "3 -0.528030  2.429400  0.417787 -0.240224    ...    -0.322441 -0.379351   \n",
       "4 -0.490024  2.570299  0.402626 -0.197864    ...    -0.289411 -0.389372   \n",
       "\n",
       "     b03122    b03123    b03124    b03125    b03126    b03127    b03128  \\\n",
       "0 -0.686271 -0.317572  0.150341 -0.459128 -0.092368  2.002264  0.679291   \n",
       "1 -0.592775 -0.273326  0.294199 -0.410804 -0.176393  2.012955  0.786568   \n",
       "2 -0.576538 -0.337179  0.213093 -0.492303 -0.204030  2.000700  0.832172   \n",
       "3 -0.706133 -0.259978  0.259995 -0.434761 -0.149000  2.143185  0.728325   \n",
       "4 -0.519841 -0.275477  0.240950 -0.478851 -0.150973  2.016063  0.728165   \n",
       "\n",
       "     b03129    b03130    b03131    b03132    b03133    b03134    b03135  \\\n",
       "0 -0.321894 -0.301262 -0.304096 -0.503515  0.038584 -0.321661 -0.025176   \n",
       "1 -0.287586 -0.410295 -0.339888 -0.512914  0.175233 -0.447364 -0.089596   \n",
       "2 -0.278820 -0.328549 -0.350300 -0.565399  0.165861 -0.314854 -0.005271   \n",
       "3 -0.341679 -0.321065 -0.270224 -0.509597  0.154446 -0.332890 -0.049498   \n",
       "4 -0.392017 -0.422188 -0.326043 -0.577843  0.036608 -0.248267 -0.015795   \n",
       "\n",
       "     b03136    b03137    b03138    b03139    b03140    b03141    b03142  \\\n",
       "0 -0.146435  0.630609  1.636322 -0.733655  1.667687 -0.415409 -0.434346   \n",
       "1 -0.224547  0.574407  1.645543 -0.666496  1.693427 -0.480319 -0.499966   \n",
       "2 -0.173538  0.584507  1.573893 -0.673235  1.534803 -0.344220 -0.516543   \n",
       "3 -0.250400  0.523150  1.724064 -0.703046  1.671968 -0.409381 -0.521109   \n",
       "4 -0.175306  0.518701  1.635530 -0.557728  1.674649 -0.531472 -0.523125   \n",
       "\n",
       "     b03143    b03144  \n",
       "0  2.419059 -0.495288  \n",
       "1  2.341641 -0.386243  \n",
       "2  2.288572 -0.386315  \n",
       "3  2.454575 -0.454832  \n",
       "4  2.299219 -0.426753  \n",
       "\n",
       "[5 rows x 3145 columns]"
      ]
     },
     "execution_count": 61,
     "metadata": {},
     "output_type": "execute_result"
    }
   ],
   "source": [
    "b0DF.head()"
   ]
  },
  {
   "cell_type": "code",
   "execution_count": null,
   "metadata": {
    "collapsed": true
   },
   "outputs": [],
   "source": []
  },
  {
   "cell_type": "code",
   "execution_count": 62,
   "metadata": {
    "collapsed": true
   },
   "outputs": [],
   "source": [
    "b0DF_summ = b0DF.describe(percentiles=[.025,.975])\n",
    "b1DF_summ = b1DF.describe(percentiles=[.025,.975])"
   ]
  },
  {
   "cell_type": "code",
   "execution_count": 63,
   "metadata": {
    "collapsed": true
   },
   "outputs": [],
   "source": [
    "b0DF_summ = b0DF_summ.transpose()\n",
    "b1DF_summ = b1DF_summ.transpose()"
   ]
  },
  {
   "cell_type": "code",
   "execution_count": 64,
   "metadata": {},
   "outputs": [
    {
     "data": {
      "text/html": [
       "<div>\n",
       "<style scoped>\n",
       "    .dataframe tbody tr th:only-of-type {\n",
       "        vertical-align: middle;\n",
       "    }\n",
       "\n",
       "    .dataframe tbody tr th {\n",
       "        vertical-align: top;\n",
       "    }\n",
       "\n",
       "    .dataframe thead th {\n",
       "        text-align: right;\n",
       "    }\n",
       "</style>\n",
       "<table border=\"1\" class=\"dataframe\">\n",
       "  <thead>\n",
       "    <tr style=\"text-align: right;\">\n",
       "      <th></th>\n",
       "      <th>count</th>\n",
       "      <th>mean</th>\n",
       "      <th>std</th>\n",
       "      <th>min</th>\n",
       "      <th>2.5%</th>\n",
       "      <th>50%</th>\n",
       "      <th>97.5%</th>\n",
       "      <th>max</th>\n",
       "    </tr>\n",
       "  </thead>\n",
       "  <tbody>\n",
       "    <tr>\n",
       "      <th>b00</th>\n",
       "      <td>2000.0</td>\n",
       "      <td>0.009418</td>\n",
       "      <td>0.058780</td>\n",
       "      <td>-0.174565</td>\n",
       "      <td>-0.097615</td>\n",
       "      <td>0.010156</td>\n",
       "      <td>0.118316</td>\n",
       "      <td>0.192259</td>\n",
       "    </tr>\n",
       "    <tr>\n",
       "      <th>b01</th>\n",
       "      <td>2000.0</td>\n",
       "      <td>-0.494191</td>\n",
       "      <td>0.062580</td>\n",
       "      <td>-0.693121</td>\n",
       "      <td>-0.606623</td>\n",
       "      <td>-0.499554</td>\n",
       "      <td>-0.376426</td>\n",
       "      <td>-0.312598</td>\n",
       "    </tr>\n",
       "    <tr>\n",
       "      <th>b02</th>\n",
       "      <td>2000.0</td>\n",
       "      <td>0.274671</td>\n",
       "      <td>0.068428</td>\n",
       "      <td>0.095660</td>\n",
       "      <td>0.148467</td>\n",
       "      <td>0.275289</td>\n",
       "      <td>0.405723</td>\n",
       "      <td>0.486446</td>\n",
       "    </tr>\n",
       "    <tr>\n",
       "      <th>b03</th>\n",
       "      <td>2000.0</td>\n",
       "      <td>-0.086587</td>\n",
       "      <td>0.061315</td>\n",
       "      <td>-0.278689</td>\n",
       "      <td>-0.194403</td>\n",
       "      <td>-0.091467</td>\n",
       "      <td>0.028518</td>\n",
       "      <td>0.076513</td>\n",
       "    </tr>\n",
       "    <tr>\n",
       "      <th>b04</th>\n",
       "      <td>2000.0</td>\n",
       "      <td>0.467935</td>\n",
       "      <td>0.065550</td>\n",
       "      <td>0.264877</td>\n",
       "      <td>0.356359</td>\n",
       "      <td>0.463938</td>\n",
       "      <td>0.591637</td>\n",
       "      <td>0.647202</td>\n",
       "    </tr>\n",
       "  </tbody>\n",
       "</table>\n",
       "</div>"
      ],
      "text/plain": [
       "      count      mean       std       min      2.5%       50%     97.5%  \\\n",
       "b00  2000.0  0.009418  0.058780 -0.174565 -0.097615  0.010156  0.118316   \n",
       "b01  2000.0 -0.494191  0.062580 -0.693121 -0.606623 -0.499554 -0.376426   \n",
       "b02  2000.0  0.274671  0.068428  0.095660  0.148467  0.275289  0.405723   \n",
       "b03  2000.0 -0.086587  0.061315 -0.278689 -0.194403 -0.091467  0.028518   \n",
       "b04  2000.0  0.467935  0.065550  0.264877  0.356359  0.463938  0.591637   \n",
       "\n",
       "          max  \n",
       "b00  0.192259  \n",
       "b01 -0.312598  \n",
       "b02  0.486446  \n",
       "b03  0.076513  \n",
       "b04  0.647202  "
      ]
     },
     "execution_count": 64,
     "metadata": {},
     "output_type": "execute_result"
    }
   ],
   "source": [
    "b0DF_summ.head()"
   ]
  },
  {
   "cell_type": "code",
   "execution_count": 65,
   "metadata": {},
   "outputs": [
    {
     "data": {
      "text/plain": [
       "3145"
      ]
     },
     "execution_count": 65,
     "metadata": {},
     "output_type": "execute_result"
    }
   ],
   "source": [
    "b0DF_summ.shape[0]\n"
   ]
  },
  {
   "cell_type": "code",
   "execution_count": 66,
   "metadata": {},
   "outputs": [
    {
     "name": "stderr",
     "output_type": "stream",
     "text": [
      "/usr/local/envs/py3env/lib/python3.5/site-packages/matplotlib/font_manager.py:1320: UserWarning: findfont: Font family ['sans-serif'] not found. Falling back to DejaVu Sans\n",
      "  (prop.get_family(), self.defaultFamily[fontext]))\n"
     ]
    },
    {
     "data": {
      "image/png": "[encoded data removed]",
      "text/plain": [
       "<matplotlib.figure.Figure at 0x7f53c0095978>"
      ]
     },
     "metadata": {},
     "output_type": "display_data"
    }
   ],
   "source": [
    "b0DF_summ = b0DF_summ.sort_values(\"50%\")\n",
    "b0DF_summ[\"ord\"]=[i for i in range(b0DF_summ.shape[0])]\n",
    "fig, ax = plt.subplots()\n",
    "#ax.fill_between(b0DF_summ[\"ord\"], b0DF_summ[\"2.5%\"], b0DF_summ[\"97.5%\"])\n",
    "ax.vlines(b0DF_summ[\"ord\"], b0DF_summ[\"2.5%\"], b0DF_summ[\"97.5%\"])\n",
    "ax.xaxis.set_ticklabels([])\n",
    "ax.set_ylabel(\"95% interval, $a_s$\")\n",
    "ax.set_ylim(-1,4)\n",
    "fig.savefig(\"Bay_as.png\", dpi=300)\n",
    "plt.show()"
   ]
  },
  {
   "cell_type": "code",
   "execution_count": 67,
   "metadata": {},
   "outputs": [
    {
     "name": "stderr",
     "output_type": "stream",
     "text": [
      "/usr/local/envs/py3env/lib/python3.5/site-packages/matplotlib/font_manager.py:1320: UserWarning: findfont: Font family ['sans-serif'] not found. Falling back to DejaVu Sans\n",
      "  (prop.get_family(), self.defaultFamily[fontext]))\n"
     ]
    },
    {
     "data": {
      "image/png": "[encoded data removed]",
      "text/plain": [
       "<matplotlib.figure.Figure at 0x7f53c19029b0>"
      ]
     },
     "metadata": {},
     "output_type": "display_data"
    }
   ],
   "source": [
    "b1DF_summ = b1DF_summ.sort_values(\"50%\")\n",
    "b1DF_summ[\"ord\"]=[i for i in range(b0DF_summ.shape[0])]\n",
    "fig, ax = plt.subplots()\n",
    "ax.vlines(b1DF_summ[\"ord\"], b1DF_summ[\"2.5%\"], b1DF_summ[\"97.5%\"])\n",
    "#ax.fill_between(b1DF_summ[\"ord\"], b1DF_summ[\"2.5%\"], b1DF_summ[\"97.5%\"])\n",
    "ax.xaxis.set_ticklabels([])\n",
    "ax.set_ylabel(\"95% confidence interval, $b_s$\")\n",
    "ax.set_ylim(-.5,.5)\n",
    "fig.savefig(\"Bay_bs.png\", dpi=300)\n",
    "plt.show()"
   ]
  },
  {
   "cell_type": "code",
   "execution_count": null,
   "metadata": {
    "collapsed": true
   },
   "outputs": [],
   "source": []
  },
  {
   "cell_type": "code",
   "execution_count": null,
   "metadata": {
    "collapsed": true
   },
   "outputs": [],
   "source": []
  },
  {
   "cell_type": "code",
   "execution_count": null,
   "metadata": {
    "collapsed": true
   },
   "outputs": [],
   "source": []
  }
 ],
 "metadata": {
  "kernelspec": {
   "display_name": "Python 3",
   "language": "python",
   "name": "python3"
  },
  "language_info": {
   "codemirror_mode": {
    "name": "ipython",
    "version": 3
   },
   "file_extension": ".py",
   "mimetype": "text/x-python",
   "name": "python",
   "nbconvert_exporter": "python",
   "pygments_lexer": "ipython3",
   "version": "3.7.1"
  }
 },
 "nbformat": 4,
 "nbformat_minor": 2
}
